{
 "cells": [
  {
   "cell_type": "markdown",
   "id": "074cd1ef",
   "metadata": {},
   "source": [
    "### Text classification using NLP / Core engine of a chatbot"
   ]
  },
  {
   "cell_type": "markdown",
   "id": "4cd0cd9b",
   "metadata": {},
   "source": [
    "* Aim of the project is to design the industrial safety NLP based Chatbot - To design a ML/DL based chatbot utility which can help the professionals to highlight the safety risk as per the incident description by predicting Accident Level/Potential Accident Level."
   ]
  },
  {
   "cell_type": "markdown",
   "id": "6d29332c",
   "metadata": {},
   "source": [
    "###### Download\n",
    "* nltk.download_gui()"
   ]
  },
  {
   "cell_type": "markdown",
   "id": "90902a5a",
   "metadata": {},
   "source": [
    "#### Note: The above will open a GUI"
   ]
  },
  {
   "cell_type": "markdown",
   "id": "590388b4",
   "metadata": {},
   "source": [
    "* Select the below:\n",
    "* stopwords from Corpa\n",
    "* averaged_perceptron_tagger from All corpus\n",
    "* wordnet (OR) you can download all the nltk components by: nltk.download()\n",
    "\n",
    "* Please Note: The above will take much time (30-60mins depending on Internet speed)"
   ]
  },
  {
   "cell_type": "code",
   "execution_count": 82,
   "id": "35f9328e",
   "metadata": {},
   "outputs": [],
   "source": [
    "#Import useful libraries\n",
    "import nltk\n",
    "import re\n",
    "import os\n",
    "import csv\n",
    "from nltk.stem.snowball import SnowballStemmer\n",
    "import random\n",
    "from nltk.classify import SklearnClassifier\n",
    "from nltk.tokenize import RegexpTokenizer\n",
    "from nltk.corpus import stopwords\n",
    "from nltk.stem.wordnet import WordNetLemmatizer\n",
    "import numpy as np\n",
    "import pandas as pd\n",
    "#Visualization\n",
    "import matplotlib.pyplot as plt\n",
    "%matplotlib inline"
   ]
  },
  {
   "cell_type": "code",
   "execution_count": 2,
   "id": "1066fecb",
   "metadata": {},
   "outputs": [],
   "source": [
    "## Get multiple outputs in the same cell\n",
    "from IPython.core.interactiveshell import InteractiveShell\n",
    "InteractiveShell.ast_node_interactivity = \"all\"\n",
    "\n",
    "## Ignore all warnings\n",
    "import warnings\n",
    "warnings.filterwarnings('ignore')\n",
    "warnings.filterwarnings(action='ignore', category=DeprecationWarning)"
   ]
  },
  {
   "cell_type": "code",
   "execution_count": 3,
   "id": "ef0b03b9",
   "metadata": {},
   "outputs": [],
   "source": [
    "## Display all rows and columns of a dataframe instead of a truncated version\n",
    "from IPython.display import display\n",
    "pd.set_option('display.max_columns', None)\n",
    "pd.set_option('display.max_rows', None)"
   ]
  },
  {
   "cell_type": "markdown",
   "id": "341f5fc8",
   "metadata": {},
   "source": [
    "#### Pre-processing"
   ]
  },
  {
   "cell_type": "code",
   "execution_count": 4,
   "id": "cf98eedd",
   "metadata": {},
   "outputs": [],
   "source": [
    "# Sentence from the description column\n",
    "sentence = \"While removing the drill rod of the Jumbo 08 for maintenance,the supervisor proceeds to loosen the support of the intermediate centralizer to facilitate the removal, seeing this the mechanic supports one end on the drill of the equipment to pull with both hands the bar and accelerate the removal from this, at this moment the bar slides from its point of support and tightens the fingers of the mechanic between the drilling bar and the beam of the jumbo.\"\n",
    "sentence2 = \"During the activation of a sodium sulphide pump,the piping was uncoupled and the sulfide solution was designed in the area to reach the maid. Immediately she made use of the emergency shower and was directed to the ambulatory doctor and later to the hospital. Note: of sulphide solution = 48 grams / liter.\""
   ]
  },
  {
   "cell_type": "code",
   "execution_count": 5,
   "id": "6814491f",
   "metadata": {},
   "outputs": [
    {
     "data": {
      "text/plain": [
       "False"
      ]
     },
     "execution_count": 5,
     "metadata": {},
     "output_type": "execute_result"
    },
    {
     "name": "stdout",
     "output_type": "stream",
     "text": [
      "abcdefgh\n"
     ]
    },
    {
     "data": {
      "text/plain": [
       "'while removing the drill rod of the jumbo 08 for maintenance,the supervisor proceeds to loosen the support of the intermediate centralizer to facilitate the removal, seeing this the mechanic supports one end on the drill of the equipment to pull with both hands the bar and accelerate the removal from this, at this moment the bar slides from its point of support and tightens the fingers of the mechanic between the drilling bar and the beam of the jumbo.'"
      ]
     },
     "execution_count": 5,
     "metadata": {},
     "output_type": "execute_result"
    },
    {
     "data": {
      "text/plain": [
       "'during the activation of a sodium sulphide pump,the piping was uncoupled and the sulfide solution was designed in the area to reach the maid. immediately she made use of the emergency shower and was directed to the ambulatory doctor and later to the hospital. note: of sulphide solution = 48 grams / liter.'"
      ]
     },
     "execution_count": 5,
     "metadata": {},
     "output_type": "execute_result"
    }
   ],
   "source": [
    "#convert sentence to lower case\n",
    "'This' == 'this'\n",
    "print('AbcdEFgH'.lower())\n",
    "sentence.lower()\n",
    "sentence2.lower()"
   ]
  },
  {
   "cell_type": "markdown",
   "id": "3cf175ff",
   "metadata": {},
   "source": [
    "#### Tokenize - extract individual words"
   ]
  },
  {
   "cell_type": "code",
   "execution_count": 6,
   "id": "41460d37",
   "metadata": {},
   "outputs": [
    {
     "data": {
      "text/plain": [
       "['While',\n",
       " 'removing',\n",
       " 'the',\n",
       " 'drill',\n",
       " 'rod',\n",
       " 'of',\n",
       " 'the',\n",
       " 'Jumbo',\n",
       " '08',\n",
       " 'for',\n",
       " 'maintenance',\n",
       " 'the',\n",
       " 'supervisor',\n",
       " 'proceeds',\n",
       " 'to',\n",
       " 'loosen',\n",
       " 'the',\n",
       " 'support',\n",
       " 'of',\n",
       " 'the',\n",
       " 'intermediate',\n",
       " 'centralizer',\n",
       " 'to',\n",
       " 'facilitate',\n",
       " 'the',\n",
       " 'removal',\n",
       " 'seeing',\n",
       " 'this',\n",
       " 'the',\n",
       " 'mechanic',\n",
       " 'supports',\n",
       " 'one',\n",
       " 'end',\n",
       " 'on',\n",
       " 'the',\n",
       " 'drill',\n",
       " 'of',\n",
       " 'the',\n",
       " 'equipment',\n",
       " 'to',\n",
       " 'pull',\n",
       " 'with',\n",
       " 'both',\n",
       " 'hands',\n",
       " 'the',\n",
       " 'bar',\n",
       " 'and',\n",
       " 'accelerate',\n",
       " 'the',\n",
       " 'removal',\n",
       " 'from',\n",
       " 'this',\n",
       " 'at',\n",
       " 'this',\n",
       " 'moment',\n",
       " 'the',\n",
       " 'bar',\n",
       " 'slides',\n",
       " 'from',\n",
       " 'its',\n",
       " 'point',\n",
       " 'of',\n",
       " 'support',\n",
       " 'and',\n",
       " 'tightens',\n",
       " 'the',\n",
       " 'fingers',\n",
       " 'of',\n",
       " 'the',\n",
       " 'mechanic',\n",
       " 'between',\n",
       " 'the',\n",
       " 'drilling',\n",
       " 'bar',\n",
       " 'and',\n",
       " 'the',\n",
       " 'beam',\n",
       " 'of',\n",
       " 'the',\n",
       " 'jumbo']"
      ]
     },
     "execution_count": 6,
     "metadata": {},
     "output_type": "execute_result"
    },
    {
     "data": {
      "text/plain": [
       "['During',\n",
       " 'the',\n",
       " 'activation',\n",
       " 'of',\n",
       " 'a',\n",
       " 'sodium',\n",
       " 'sulphide',\n",
       " 'pump',\n",
       " 'the',\n",
       " 'piping',\n",
       " 'was',\n",
       " 'uncoupled',\n",
       " 'and',\n",
       " 'the',\n",
       " 'sulfide',\n",
       " 'solution',\n",
       " 'was',\n",
       " 'designed',\n",
       " 'in',\n",
       " 'the',\n",
       " 'area',\n",
       " 'to',\n",
       " 'reach',\n",
       " 'the',\n",
       " 'maid',\n",
       " 'Immediately',\n",
       " 'she',\n",
       " 'made',\n",
       " 'use',\n",
       " 'of',\n",
       " 'the',\n",
       " 'emergency',\n",
       " 'shower',\n",
       " 'and',\n",
       " 'was',\n",
       " 'directed',\n",
       " 'to',\n",
       " 'the',\n",
       " 'ambulatory',\n",
       " 'doctor',\n",
       " 'and',\n",
       " 'later',\n",
       " 'to',\n",
       " 'the',\n",
       " 'hospital',\n",
       " 'Note',\n",
       " 'of',\n",
       " 'sulphide',\n",
       " 'solution',\n",
       " '48',\n",
       " 'grams',\n",
       " 'liter']"
      ]
     },
     "execution_count": 6,
     "metadata": {},
     "output_type": "execute_result"
    }
   ],
   "source": [
    "tokenizer = RegexpTokenizer(r'\\w+')\n",
    "tokens = tokenizer.tokenize(sentence)\n",
    "tokens\n",
    "tokens2 = tokenizer.tokenize(sentence2)\n",
    "tokens2"
   ]
  },
  {
   "cell_type": "markdown",
   "id": "0638ea22",
   "metadata": {},
   "source": [
    "#### Stopwords : Filter words to remove non-useful words"
   ]
  },
  {
   "cell_type": "code",
   "execution_count": 7,
   "id": "cf8fc269",
   "metadata": {},
   "outputs": [
    {
     "data": {
      "text/plain": [
       "['While',\n",
       " 'removing',\n",
       " 'drill',\n",
       " 'rod',\n",
       " 'Jumbo',\n",
       " '08',\n",
       " 'maintenance',\n",
       " 'supervisor',\n",
       " 'proceeds',\n",
       " 'loosen',\n",
       " 'support',\n",
       " 'intermediate',\n",
       " 'centralizer',\n",
       " 'facilitate',\n",
       " 'removal',\n",
       " 'seeing',\n",
       " 'mechanic',\n",
       " 'supports',\n",
       " 'one',\n",
       " 'end',\n",
       " 'drill',\n",
       " 'equipment',\n",
       " 'pull',\n",
       " 'hands',\n",
       " 'bar',\n",
       " 'accelerate',\n",
       " 'removal',\n",
       " 'moment',\n",
       " 'bar',\n",
       " 'slides',\n",
       " 'point',\n",
       " 'support',\n",
       " 'tightens',\n",
       " 'fingers',\n",
       " 'mechanic',\n",
       " 'drilling',\n",
       " 'bar',\n",
       " 'beam',\n",
       " 'jumbo']"
      ]
     },
     "execution_count": 7,
     "metadata": {},
     "output_type": "execute_result"
    }
   ],
   "source": [
    "filtered_words = [w for w in tokens if not w in stopwords.words('english')]\n",
    "filtered_words"
   ]
  },
  {
   "cell_type": "code",
   "execution_count": 8,
   "id": "9a5e052d",
   "metadata": {},
   "outputs": [
    {
     "data": {
      "text/plain": [
       "['During',\n",
       " 'activation',\n",
       " 'sodium',\n",
       " 'sulphide',\n",
       " 'pump',\n",
       " 'piping',\n",
       " 'uncoupled',\n",
       " 'sulfide',\n",
       " 'solution',\n",
       " 'designed',\n",
       " 'area',\n",
       " 'reach',\n",
       " 'maid',\n",
       " 'Immediately',\n",
       " 'made',\n",
       " 'use',\n",
       " 'emergency',\n",
       " 'shower',\n",
       " 'directed',\n",
       " 'ambulatory',\n",
       " 'doctor',\n",
       " 'later',\n",
       " 'hospital',\n",
       " 'Note',\n",
       " 'sulphide',\n",
       " 'solution',\n",
       " '48',\n",
       " 'grams',\n",
       " 'liter']"
      ]
     },
     "execution_count": 8,
     "metadata": {},
     "output_type": "execute_result"
    }
   ],
   "source": [
    "filtered_words = [w for w in tokens2 if not w in stopwords.words('english')]\n",
    "filtered_words"
   ]
  },
  {
   "cell_type": "code",
   "execution_count": 9,
   "id": "366c9aac",
   "metadata": {},
   "outputs": [],
   "source": [
    "# Function preprocess\n",
    "def preprocess(sentence):\n",
    "    sentence = sentence.lower()\n",
    "    tokenizer = RegexpTokenizer(r'\\w+')\n",
    "    tokens = tokenizer.tokenize(sentence)\n",
    "    filtered_words = [w for w in tokens if not w in stopwords.words('english')]\n",
    "    return filtered_words"
   ]
  },
  {
   "cell_type": "code",
   "execution_count": 10,
   "id": "acc10fc9",
   "metadata": {},
   "outputs": [
    {
     "name": "stdout",
     "output_type": "stream",
     "text": [
      "['removing', 'drill', 'rod', 'jumbo', '08', 'maintenance', 'supervisor', 'proceeds', 'loosen', 'support', 'intermediate', 'centralizer', 'facilitate', 'removal', 'seeing', 'mechanic', 'supports', 'one', 'end', 'drill', 'equipment', 'pull', 'hands', 'bar', 'accelerate', 'removal', 'moment', 'bar', 'slides', 'point', 'support', 'tightens', 'fingers', 'mechanic', 'drilling', 'bar', 'beam', 'jumbo']\n"
     ]
    }
   ],
   "source": [
    "preprocessed_sentence = preprocess(sentence)\n",
    "print(preprocessed_sentence)"
   ]
  },
  {
   "cell_type": "code",
   "execution_count": 11,
   "id": "20d6b4bf",
   "metadata": {},
   "outputs": [
    {
     "data": {
      "text/plain": [
       "['activation',\n",
       " 'sodium',\n",
       " 'sulphide',\n",
       " 'pump',\n",
       " 'piping',\n",
       " 'uncoupled',\n",
       " 'sulfide',\n",
       " 'solution',\n",
       " 'designed',\n",
       " 'area',\n",
       " 'reach',\n",
       " 'maid',\n",
       " 'immediately',\n",
       " 'made',\n",
       " 'use',\n",
       " 'emergency',\n",
       " 'shower',\n",
       " 'directed',\n",
       " 'ambulatory',\n",
       " 'doctor',\n",
       " 'later',\n",
       " 'hospital',\n",
       " 'note',\n",
       " 'sulphide',\n",
       " 'solution',\n",
       " '48',\n",
       " 'grams',\n",
       " 'liter']"
      ]
     },
     "execution_count": 11,
     "metadata": {},
     "output_type": "execute_result"
    }
   ],
   "source": [
    "preprocess(sentence2)"
   ]
  },
  {
   "cell_type": "markdown",
   "id": "1a8a105c",
   "metadata": {},
   "source": [
    "#### Tagging"
   ]
  },
  {
   "cell_type": "code",
   "execution_count": 12,
   "id": "76eafbff",
   "metadata": {},
   "outputs": [
    {
     "name": "stdout",
     "output_type": "stream",
     "text": [
      "[('removing', 'VBG'), ('drill', 'NN'), ('rod', 'VB'), ('jumbo', 'JJ'), ('08', 'CD'), ('maintenance', 'NN'), ('supervisor', 'NN'), ('proceeds', 'NNS'), ('loosen', 'VBP'), ('support', 'NN'), ('intermediate', 'JJ'), ('centralizer', 'NN'), ('facilitate', 'NN'), ('removal', 'NN'), ('seeing', 'VBG'), ('mechanic', 'JJ'), ('supports', 'NNS'), ('one', 'CD'), ('end', 'NN'), ('drill', 'NN'), ('equipment', 'NN'), ('pull', 'NN'), ('hands', 'VBZ'), ('bar', 'NN'), ('accelerate', 'NN'), ('removal', 'NN'), ('moment', 'NN'), ('bar', 'NN'), ('slides', 'NNS'), ('point', 'VBP'), ('support', 'NN'), ('tightens', 'NNS'), ('fingers', 'NNS'), ('mechanic', 'JJ'), ('drilling', 'VBG'), ('bar', 'NN'), ('beam', 'NN'), ('jumbo', 'NN')]\n"
     ]
    }
   ],
   "source": [
    "tags = nltk.pos_tag(preprocessed_sentence)\n",
    "print(tags)"
   ]
  },
  {
   "cell_type": "code",
   "execution_count": 13,
   "id": "da92685b",
   "metadata": {},
   "outputs": [
    {
     "name": "stdout",
     "output_type": "stream",
     "text": [
      "[('activation', 'NN'), ('sodium', 'NN'), ('sulphide', 'JJ'), ('pump', 'NN'), ('piping', 'VBG'), ('uncoupled', 'JJ'), ('sulfide', 'JJ'), ('solution', 'NN'), ('designed', 'VBN'), ('area', 'NN'), ('reach', 'NN'), ('maid', 'VBD'), ('immediately', 'RB'), ('made', 'VBN'), ('use', 'NN'), ('emergency', 'NN'), ('shower', 'NN'), ('directed', 'VBD'), ('ambulatory', 'JJ'), ('doctor', 'NN'), ('later', 'RBR'), ('hospital', 'JJ'), ('note', 'NN'), ('sulphide', 'JJ'), ('solution', 'NN'), ('48', 'CD'), ('grams', 'NNS'), ('liter', 'RBR')]\n"
     ]
    }
   ],
   "source": [
    "tags = nltk.pos_tag(preprocess(sentence2))\n",
    "print(tags)"
   ]
  },
  {
   "cell_type": "markdown",
   "id": "bcdb8706",
   "metadata": {},
   "source": [
    "##### Extracting only Nouns and Verb nouns"
   ]
  },
  {
   "cell_type": "code",
   "execution_count": 14,
   "id": "de3f9f9b",
   "metadata": {},
   "outputs": [],
   "source": [
    "# Function for extracting tags\n",
    "def extract_tagged(sentences):\n",
    "    features = []\n",
    "    for tagged_word in sentences:\n",
    "        word, tag = tagged_word\n",
    "        if tag=='NN' or tag == 'VBN' or tag == 'NNS' or tag == 'VBP' or tag == 'RB' or tag == 'VBZ' or tag == 'VBG' or tag =='PRP' or tag == 'JJ':\n",
    "            features.append(word)\n",
    "    return features"
   ]
  },
  {
   "cell_type": "code",
   "execution_count": 15,
   "id": "4267ade8",
   "metadata": {},
   "outputs": [
    {
     "data": {
      "text/plain": [
       "['activation',\n",
       " 'sodium',\n",
       " 'sulphide',\n",
       " 'pump',\n",
       " 'piping',\n",
       " 'uncoupled',\n",
       " 'sulfide',\n",
       " 'solution',\n",
       " 'designed',\n",
       " 'area',\n",
       " 'reach',\n",
       " 'immediately',\n",
       " 'made',\n",
       " 'use',\n",
       " 'emergency',\n",
       " 'shower',\n",
       " 'ambulatory',\n",
       " 'doctor',\n",
       " 'hospital',\n",
       " 'note',\n",
       " 'sulphide',\n",
       " 'solution',\n",
       " 'grams']"
      ]
     },
     "execution_count": 15,
     "metadata": {},
     "output_type": "execute_result"
    }
   ],
   "source": [
    "extract_tagged(tags)"
   ]
  },
  {
   "cell_type": "markdown",
   "id": "691f3c27",
   "metadata": {},
   "source": [
    "##### stemming/Lemmatize words"
   ]
  },
  {
   "cell_type": "code",
   "execution_count": 16,
   "id": "3be1f7f9",
   "metadata": {},
   "outputs": [],
   "source": [
    "# call stemming and lemmatization\n",
    "lmtzr = WordNetLemmatizer()\n",
    "stemmer = SnowballStemmer(\"english\")"
   ]
  },
  {
   "cell_type": "code",
   "execution_count": 17,
   "id": "b714b0e7",
   "metadata": {},
   "outputs": [],
   "source": [
    "def extract_feature(text):\n",
    "    words = preprocess(text)\n",
    "#     print('words: ',words)\n",
    "    tags = nltk.pos_tag(words)\n",
    "#     print('tags: ',tags)\n",
    "    extracted_features = extract_tagged(tags)\n",
    "#     print('Extracted features: ',extracted_features)\n",
    "    stemmed_words = [stemmer.stem(x) for x in extracted_features]\n",
    "#     print(stemmed_words)\n",
    "\n",
    "    result = [lmtzr.lemmatize(x) for x in stemmed_words]\n",
    "   \n",
    "    return result"
   ]
  },
  {
   "cell_type": "code",
   "execution_count": 18,
   "id": "654d9043",
   "metadata": {},
   "outputs": [
    {
     "data": {
      "text/plain": [
       "'While removing the drill rod of the Jumbo 08 for maintenance,the supervisor proceeds to loosen the support of the intermediate centralizer to facilitate the removal, seeing this the mechanic supports one end on the drill of the equipment to pull with both hands the bar and accelerate the removal from this, at this moment the bar slides from its point of support and tightens the fingers of the mechanic between the drilling bar and the beam of the jumbo.'"
      ]
     },
     "execution_count": 18,
     "metadata": {},
     "output_type": "execute_result"
    }
   ],
   "source": [
    "sentence"
   ]
  },
  {
   "cell_type": "code",
   "execution_count": 19,
   "id": "a71f56c6",
   "metadata": {},
   "outputs": [
    {
     "name": "stdout",
     "output_type": "stream",
     "text": [
      "['remov', 'drill', 'jumbo', 'mainten', 'supervisor', 'proceed', 'loosen', 'support', 'intermedi', 'central', 'facilit', 'remov', 'see', 'mechan', 'support', 'end', 'drill', 'equip', 'pull', 'hand', 'bar', 'acceler', 'remov', 'moment', 'bar', 'slide', 'point', 'support', 'tighten', 'finger', 'mechan', 'drill', 'bar', 'beam', 'jumbo']\n"
     ]
    }
   ],
   "source": [
    "#words after extraction\n",
    "words = extract_feature(sentence)\n",
    "print(words)"
   ]
  },
  {
   "cell_type": "markdown",
   "id": "19c44431",
   "metadata": {},
   "source": [
    "#### Implement BOW\n",
    "* In simple terms, it’s a collection of words to represent a sentence, disregarding the order in which they appear."
   ]
  },
  {
   "cell_type": "code",
   "execution_count": 20,
   "id": "2745e28e",
   "metadata": {},
   "outputs": [],
   "source": [
    "def word_feats(words):\n",
    "    return dict([(word, True) for word in words])"
   ]
  },
  {
   "cell_type": "code",
   "execution_count": 21,
   "id": "a28092a2",
   "metadata": {},
   "outputs": [
    {
     "data": {
      "text/plain": [
       "{'remov': True,\n",
       " 'drill': True,\n",
       " 'jumbo': True,\n",
       " 'mainten': True,\n",
       " 'supervisor': True,\n",
       " 'proceed': True,\n",
       " 'loosen': True,\n",
       " 'support': True,\n",
       " 'intermedi': True,\n",
       " 'central': True,\n",
       " 'facilit': True,\n",
       " 'see': True,\n",
       " 'mechan': True,\n",
       " 'end': True,\n",
       " 'equip': True,\n",
       " 'pull': True,\n",
       " 'hand': True,\n",
       " 'bar': True,\n",
       " 'acceler': True,\n",
       " 'moment': True,\n",
       " 'slide': True,\n",
       " 'point': True,\n",
       " 'tighten': True,\n",
       " 'finger': True,\n",
       " 'beam': True}"
      ]
     },
     "execution_count": 21,
     "metadata": {},
     "output_type": "execute_result"
    }
   ],
   "source": [
    "word_feats(words)"
   ]
  },
  {
   "cell_type": "markdown",
   "id": "a02a1624",
   "metadata": {},
   "source": [
    "##### Parsing the whole document"
   ]
  },
  {
   "cell_type": "code",
   "execution_count": 22,
   "id": "630619ee",
   "metadata": {},
   "outputs": [],
   "source": [
    "def extract_feature_from_doc(data):\n",
    "    result = []\n",
    "    corpus = []\n",
    "    # The responses of the chat bot\n",
    "    answers = {}\n",
    "    for (text,category,answer) in data:\n",
    "\n",
    "        features = extract_feature(text)\n",
    "\n",
    "        corpus.append(features)\n",
    "        result.append((word_feats(features), category))\n",
    "        answers[category] = answer\n",
    "\n",
    "    return (result, sum(corpus,[]), answers)"
   ]
  },
  {
   "cell_type": "code",
   "execution_count": 23,
   "id": "cc41dff7",
   "metadata": {},
   "outputs": [
    {
     "data": {
      "text/plain": [
       "([({'input': True, 'user': True}, 'category')],\n",
       " ['input', 'user'],\n",
       " {'category': 'answer to give'})"
      ]
     },
     "execution_count": 23,
     "metadata": {},
     "output_type": "execute_result"
    }
   ],
   "source": [
    "extract_feature_from_doc([['this is the input text from the user','category','answer to give']])"
   ]
  },
  {
   "cell_type": "code",
   "execution_count": 24,
   "id": "e3b85e7e",
   "metadata": {},
   "outputs": [],
   "source": [
    "def get_content(filename):\n",
    "    doc = os.path.join(filename)\n",
    "    with open(doc, 'r') as content_file:\n",
    "        lines = csv.reader(content_file,delimiter='|')\n",
    "        data = [x for x in lines if len(x) == 3]\n",
    "        return data"
   ]
  },
  {
   "cell_type": "code",
   "execution_count": 25,
   "id": "9d969d87",
   "metadata": {},
   "outputs": [],
   "source": [
    "# Importing the txtfile\n",
    "filename = '/Users/Lila_Vudumula/OneDrive - EPAM/Desktop/chatbot.txt'\n",
    "data = get_content(filename)"
   ]
  },
  {
   "cell_type": "markdown",
   "id": "7d6af96a",
   "metadata": {},
   "source": [
    "##### Note: \n",
    "* The intents and entity have been created in a text document for training purpose. we can elborate the conversational flow based on the requirement."
   ]
  },
  {
   "cell_type": "code",
   "execution_count": 26,
   "id": "cb288813",
   "metadata": {},
   "outputs": [
    {
     "data": {
      "text/plain": [
       "[['Hello', 'Greetings', 'Hello. I am bot. I will serve your enquiries.'],\n",
       " ['hi hello', 'Greetings', 'Hello. I am bot. I will serve your enquiries.'],\n",
       " ['hi ', 'Greetings', 'Hello. I am bot. I will serve your enquiries.'],\n",
       " ['hi', 'Greetings', 'Hello. I am bot. I will serve your enquiries.'],\n",
       " ['hi', 'Greetings', 'Hello. I am bot. I will serve your enquiries.'],\n",
       " ['hey', 'Greetings', 'Hello. I am bot. I will serve your enquiries.'],\n",
       " ['hello, hi', 'Greetings', 'Hello. I am bot. I will serve your enquiries.'],\n",
       " ['hey', 'Greetings', 'Hello. I am bot. I will serve your enquiries.'],\n",
       " ['hey, hi', 'Greetings', 'Hello. I am bot. I will serve your enquiries.'],\n",
       " ['hey, hello', 'Greetings', 'Hello. I am bot. I will serve your enquiries.'],\n",
       " ['Good morning',\n",
       "  'Morning',\n",
       "  'Good Morning. I am bot. I will serve your enquiries.'],\n",
       " ['Good afternoon',\n",
       "  'Afternoon',\n",
       "  'Good afternoon. I am bot. I will serve your enquiries.'],\n",
       " ['Good evening',\n",
       "  'Evening',\n",
       "  'Good evening. I am bot. I will serve your enquiries.'],\n",
       " ['How are you today?', 'Opening', \"I'm fine! Thank you. How can I help you?\"],\n",
       " ['want help', 'Help', 'How can I help you?'],\n",
       " ['need help', 'Help', 'How can I help you?'],\n",
       " ['help me', 'Help', 'How can I help you?'],\n",
       " [\"I don't want your help.\",\n",
       "  'No-Help',\n",
       "  'Ok sir/madam. No problem. Have a nice day.'],\n",
       " [\"I don't want your assistance\",\n",
       "  'No-Help',\n",
       "  'Ok sir/madam. No problem. Have a nice day.'],\n",
       " ['No help required', 'No-Help', 'Ok sir/madam. No problem. Have a nice day.'],\n",
       " ['It has been great talking to you.',\n",
       "  'Closing',\n",
       "  \"It's glad to know that I have been helpful. Have a good day!\"],\n",
       " ['great',\n",
       "  'Closing',\n",
       "  \"It's glad to know that I have been helpful. Have a good day!\"],\n",
       " ['thank you for your help',\n",
       "  'Closing',\n",
       "  \"It's glad to know that I have been helpful. Have a good day!\"],\n",
       " ['thank you',\n",
       "  'Closing',\n",
       "  \"It's glad to know that I have been helpful. Have a good day!\"],\n",
       " ['thank you very much',\n",
       "  'Closing',\n",
       "  \"It's glad to know that I have been helpful. Have a good day!\"],\n",
       " ['thanks.',\n",
       "  'Closing',\n",
       "  \"You're welcome!It's glad to know that I have been helpful. Have a good day!\"],\n",
       " ['thanks very much',\n",
       "  'Closing',\n",
       "  \"It's glad to know that I have been helpful. Have a good day!\"],\n",
       " ['How many types of accidents are there?',\n",
       "  'Accidents-Type',\n",
       "  'Currently I know about two: Accident_level and Potential_accident_level accidents.'],\n",
       " ['types of accidents?',\n",
       "  'Accidents-Type',\n",
       "  'Currently I know about two: Accident_level and Potential_accident_level accidents.'],\n",
       " ['type accidents?',\n",
       "  'Accidents-Type',\n",
       "  'Currently I know about two: Accident_level and Potential_accident_level accidents.'],\n",
       " ['accident type?',\n",
       "  'Accidents-Type',\n",
       "  'Currently I know about two: Accident_level and Potential_accident_level accidents.'],\n",
       " ['accidents type?',\n",
       "  'Accidents-Type',\n",
       "  'Currently I know about two: Accident_level and Potential_accident_level accidents.'],\n",
       " ['How many accidents levels are there?',\n",
       "  'Default-Utilized-Accident_level-Accidents',\n",
       "  'we have around 5 Accident_levels.'],\n",
       " ['How many accidents have occuered?',\n",
       "  'Default-Utilized-Accident_level-Accidents',\n",
       "  'we have around 5 Accident_levels.'],\n",
       " ['how many Accident_levels took?',\n",
       "  'Utilized-Accident_level-Accidents',\n",
       "  ' we have around 5 Accident_levels.'],\n",
       " ['How many Accident_level have happened?',\n",
       "  'Utilized-Accident_level-Accidents',\n",
       "  ' we have around 5 Accident_levels.'],\n",
       " ['Tell me the Accident_level count?',\n",
       "  'Utilized-Accident_level-Accidents',\n",
       "  ' we have around 5 Accident_levels.']]"
      ]
     },
     "execution_count": 26,
     "metadata": {},
     "output_type": "execute_result"
    }
   ],
   "source": [
    "data"
   ]
  },
  {
   "cell_type": "code",
   "execution_count": 27,
   "id": "328d462f",
   "metadata": {},
   "outputs": [],
   "source": [
    "features_data, corpus, answers = extract_feature_from_doc(data)"
   ]
  },
  {
   "cell_type": "code",
   "execution_count": 28,
   "id": "074d8446",
   "metadata": {},
   "outputs": [
    {
     "name": "stdout",
     "output_type": "stream",
     "text": [
      "({'good': True, 'morn': True}, 'Morning')\n"
     ]
    }
   ],
   "source": [
    "print(features_data[10])"
   ]
  },
  {
   "cell_type": "code",
   "execution_count": 29,
   "id": "308505b4",
   "metadata": {},
   "outputs": [
    {
     "data": {
      "text/plain": [
       "['hello',\n",
       " 'hi',\n",
       " 'hello',\n",
       " 'hi',\n",
       " 'hi',\n",
       " 'hi',\n",
       " 'hey',\n",
       " 'hello',\n",
       " 'hi',\n",
       " 'hey',\n",
       " 'hey',\n",
       " 'hi',\n",
       " 'hey',\n",
       " 'hello',\n",
       " 'good',\n",
       " 'morn',\n",
       " 'good',\n",
       " 'afternoon',\n",
       " 'good',\n",
       " 'even',\n",
       " 'today',\n",
       " 'want',\n",
       " 'help',\n",
       " 'need',\n",
       " 'help',\n",
       " 'help',\n",
       " 'want',\n",
       " 'help',\n",
       " 'want',\n",
       " 'assist',\n",
       " 'help',\n",
       " 'great',\n",
       " 'talk',\n",
       " 'great',\n",
       " 'thank',\n",
       " 'help',\n",
       " 'thank',\n",
       " 'thank',\n",
       " 'much',\n",
       " 'thank',\n",
       " 'thank',\n",
       " 'much',\n",
       " 'mani',\n",
       " 'type',\n",
       " 'accid',\n",
       " 'type',\n",
       " 'accid',\n",
       " 'type',\n",
       " 'accid',\n",
       " 'accid',\n",
       " 'type',\n",
       " 'accid',\n",
       " 'type',\n",
       " 'mani',\n",
       " 'accid',\n",
       " 'level',\n",
       " 'mani',\n",
       " 'accid',\n",
       " 'mani',\n",
       " 'accident_level',\n",
       " 'mani',\n",
       " 'accident_level',\n",
       " 'accident_level',\n",
       " 'count']"
      ]
     },
     "execution_count": 29,
     "metadata": {},
     "output_type": "execute_result"
    }
   ],
   "source": [
    "corpus"
   ]
  },
  {
   "cell_type": "code",
   "execution_count": 30,
   "id": "a20de936",
   "metadata": {},
   "outputs": [
    {
     "data": {
      "text/plain": [
       "{'Greetings': 'Hello. I am bot. I will serve your enquiries.',\n",
       " 'Morning': 'Good Morning. I am bot. I will serve your enquiries.',\n",
       " 'Afternoon': 'Good afternoon. I am bot. I will serve your enquiries.',\n",
       " 'Evening': 'Good evening. I am bot. I will serve your enquiries.',\n",
       " 'Opening': \"I'm fine! Thank you. How can I help you?\",\n",
       " 'Help': 'How can I help you?',\n",
       " 'No-Help': 'Ok sir/madam. No problem. Have a nice day.',\n",
       " 'Closing': \"It's glad to know that I have been helpful. Have a good day!\",\n",
       " 'Accidents-Type': 'Currently I know about two: Accident_level and Potential_accident_level accidents.',\n",
       " 'Default-Utilized-Accident_level-Accidents': 'we have around 5 Accident_levels.',\n",
       " 'Utilized-Accident_level-Accidents': ' we have around 5 Accident_levels.'}"
      ]
     },
     "execution_count": 30,
     "metadata": {},
     "output_type": "execute_result"
    }
   ],
   "source": [
    "answers"
   ]
  },
  {
   "cell_type": "markdown",
   "id": "2fbc601c",
   "metadata": {},
   "source": [
    "#### Train a model using these fetures\n"
   ]
  },
  {
   "cell_type": "code",
   "execution_count": 31,
   "id": "d78bf2e3",
   "metadata": {},
   "outputs": [],
   "source": [
    "## split data into train and test sets\n",
    "split_ratio = 0.8"
   ]
  },
  {
   "cell_type": "code",
   "execution_count": 32,
   "id": "63a41585",
   "metadata": {},
   "outputs": [],
   "source": [
    "def split_dataset(data, split_ratio):\n",
    "    random.shuffle(data)\n",
    "    data_length = len(data)\n",
    "    train_split = int(data_length * split_ratio)\n",
    "    return (data[:train_split]), (data[train_split:])"
   ]
  },
  {
   "cell_type": "code",
   "execution_count": 33,
   "id": "4ab35821",
   "metadata": {},
   "outputs": [],
   "source": [
    "training_data, test_data = split_dataset(features_data, split_ratio)"
   ]
  },
  {
   "cell_type": "code",
   "execution_count": 34,
   "id": "f44e1854",
   "metadata": {},
   "outputs": [
    {
     "data": {
      "text/plain": [
       "[({'help': True}, 'No-Help'),\n",
       " ({'mani': True, 'accid': True, 'level': True},\n",
       "  'Default-Utilized-Accident_level-Accidents'),\n",
       " ({'accid': True, 'type': True}, 'Accidents-Type'),\n",
       " ({'mani': True, 'accident_level': True}, 'Utilized-Accident_level-Accidents'),\n",
       " ({'hi': True, 'hello': True}, 'Greetings'),\n",
       " ({'hey': True, 'hello': True}, 'Greetings'),\n",
       " ({'mani': True, 'accid': True}, 'Default-Utilized-Accident_level-Accidents'),\n",
       " ({'today': True}, 'Opening'),\n",
       " ({'mani': True, 'accident_level': True}, 'Utilized-Accident_level-Accidents'),\n",
       " ({'good': True, 'morn': True}, 'Morning'),\n",
       " ({'thank': True}, 'Closing'),\n",
       " ({'type': True, 'accid': True}, 'Accidents-Type'),\n",
       " ({'type': True, 'accid': True}, 'Accidents-Type'),\n",
       " ({'thank': True, 'much': True}, 'Closing'),\n",
       " ({'hi': True}, 'Greetings'),\n",
       " ({'hey': True, 'hi': True}, 'Greetings'),\n",
       " ({'thank': True, 'help': True}, 'Closing'),\n",
       " ({'accid': True, 'type': True}, 'Accidents-Type'),\n",
       " ({'want': True, 'help': True}, 'Help'),\n",
       " ({'great': True, 'talk': True}, 'Closing'),\n",
       " ({'good': True, 'afternoon': True}, 'Afternoon'),\n",
       " ({'great': True}, 'Closing'),\n",
       " ({'need': True, 'help': True}, 'Help'),\n",
       " ({'mani': True, 'type': True, 'accid': True}, 'Accidents-Type'),\n",
       " ({'help': True}, 'Help'),\n",
       " ({'good': True, 'even': True}, 'Evening'),\n",
       " ({'hey': True}, 'Greetings'),\n",
       " ({'hey': True}, 'Greetings'),\n",
       " ({'thank': True}, 'Closing')]"
      ]
     },
     "execution_count": 34,
     "metadata": {},
     "output_type": "execute_result"
    }
   ],
   "source": [
    "training_data"
   ]
  },
  {
   "cell_type": "code",
   "execution_count": 35,
   "id": "30af6742",
   "metadata": {},
   "outputs": [],
   "source": [
    "# save the data\n",
    "np.save('training_data', training_data)\n",
    "np.save('test_data', test_data)"
   ]
  },
  {
   "cell_type": "markdown",
   "id": "9228425a",
   "metadata": {},
   "source": [
    "#### Model Building"
   ]
  },
  {
   "cell_type": "code",
   "execution_count": 36,
   "id": "0e696223",
   "metadata": {},
   "outputs": [],
   "source": [
    "def train_using_decision_tree(training_data, test_data):\n",
    "    classifier = nltk.classify.DecisionTreeClassifier.train(training_data, entropy_cutoff=0.6, support_cutoff=6)\n",
    "    classifier_name = type(classifier).__name__\n",
    "    training_set_accuracy = nltk.classify.accuracy(classifier, training_data)\n",
    "    print('training set accuracy: ', training_set_accuracy)\n",
    "    test_set_accuracy = nltk.classify.accuracy(classifier, test_data)\n",
    "    print('test set accuracy: ', test_set_accuracy)\n",
    "    return classifier, classifier_name, test_set_accuracy, training_set_accuracy"
   ]
  },
  {
   "cell_type": "code",
   "execution_count": 37,
   "id": "765ae890",
   "metadata": {},
   "outputs": [
    {
     "name": "stdout",
     "output_type": "stream",
     "text": [
      "training set accuracy:  0.9310344827586207\n",
      "test set accuracy:  0.625\n"
     ]
    }
   ],
   "source": [
    "dtclassifier, classifier_name, test_set_accuracy, training_set_accuracy = train_using_decision_tree(training_data, test_data)"
   ]
  },
  {
   "cell_type": "markdown",
   "id": "ae72d1a2",
   "metadata": {},
   "source": [
    "#### Naive Bayes"
   ]
  },
  {
   "cell_type": "code",
   "execution_count": 38,
   "id": "67ef4dbd",
   "metadata": {},
   "outputs": [],
   "source": [
    "def train_using_naive_bayes(training_data, test_data):\n",
    "    classifier = nltk.NaiveBayesClassifier.train(training_data)\n",
    "    classifier_name = type(classifier).__name__\n",
    "    training_set_accuracy = nltk.classify.accuracy(classifier, training_data)\n",
    "    test_set_accuracy = nltk.classify.accuracy(classifier, test_data)\n",
    "    return classifier, classifier_name, test_set_accuracy, training_set_accuracy"
   ]
  },
  {
   "cell_type": "code",
   "execution_count": 39,
   "id": "e04f5da3",
   "metadata": {},
   "outputs": [
    {
     "name": "stdout",
     "output_type": "stream",
     "text": [
      "0.9655172413793104\n",
      "0.75\n",
      "40\n",
      "Most Informative Features\n",
      "                    help = True             Help : Closin =      4.1 : 1.0\n",
      "                    mani = True           Defaul : Accide =      3.3 : 1.0\n",
      "                     hey = None           Closin : Greeti =      2.6 : 1.0\n",
      "                   thank = None           Greeti : Closin =      2.6 : 1.0\n",
      "                      hi = None           Closin : Greeti =      1.9 : 1.0\n",
      "                   level = None           Closin : Defaul =      1.9 : 1.0\n",
      "                    need = None           Closin : Help   =      1.5 : 1.0\n",
      "                    want = None           Closin : Help   =      1.5 : 1.0\n",
      "                   great = None           Greeti : Closin =      1.4 : 1.0\n",
      "                   hello = None           Closin : Greeti =      1.4 : 1.0\n"
     ]
    }
   ],
   "source": [
    "classifier, classifier_name, test_set_accuracy, training_set_accuracy = train_using_naive_bayes(training_data, test_data)\n",
    "print(training_set_accuracy)\n",
    "print(test_set_accuracy)\n",
    "print(len(classifier.most_informative_features()))\n",
    "classifier.show_most_informative_features()"
   ]
  },
  {
   "cell_type": "code",
   "execution_count": 40,
   "id": "cd032368",
   "metadata": {},
   "outputs": [
    {
     "data": {
      "text/plain": [
       "'Utilized-Accident_level-Accidents'"
      ]
     },
     "execution_count": 40,
     "metadata": {},
     "output_type": "execute_result"
    }
   ],
   "source": [
    "classifier.classify(({'mani': True, 'option': True, 'leav': True}))"
   ]
  },
  {
   "cell_type": "code",
   "execution_count": 41,
   "id": "fb438873",
   "metadata": {},
   "outputs": [
    {
     "data": {
      "text/plain": [
       "['hello']"
      ]
     },
     "execution_count": 41,
     "metadata": {},
     "output_type": "execute_result"
    }
   ],
   "source": [
    "extract_feature(\"hello\")"
   ]
  },
  {
   "cell_type": "code",
   "execution_count": 42,
   "id": "e24f520b",
   "metadata": {},
   "outputs": [
    {
     "data": {
      "text/plain": [
       "{'hello': True}"
      ]
     },
     "execution_count": 42,
     "metadata": {},
     "output_type": "execute_result"
    }
   ],
   "source": [
    "word_feats(extract_feature(\"hello\"))"
   ]
  },
  {
   "cell_type": "code",
   "execution_count": 43,
   "id": "e81e0f89",
   "metadata": {},
   "outputs": [
    {
     "data": {
      "text/plain": [
       "'Accidents-Type'"
      ]
     },
     "execution_count": 43,
     "metadata": {},
     "output_type": "execute_result"
    }
   ],
   "source": [
    "input_sentence = \"How many types of accidents are there?\"\n",
    "classifier.classify(word_feats(extract_feature(input_sentence)))"
   ]
  },
  {
   "cell_type": "code",
   "execution_count": 44,
   "id": "db6b1e2a",
   "metadata": {},
   "outputs": [],
   "source": [
    "def reply(input_sentence):\n",
    "    category = dtclassifier.classify(word_feats(extract_feature(input_sentence)))\n",
    "    return answers[category]"
   ]
  },
  {
   "cell_type": "markdown",
   "id": "0d48145e",
   "metadata": {},
   "source": [
    "##### Chatbot\n",
    "* Note:- Check the chatbot request and response from below cells"
   ]
  },
  {
   "cell_type": "code",
   "execution_count": 50,
   "id": "de46cf99",
   "metadata": {},
   "outputs": [
    {
     "data": {
      "text/plain": [
       "'Hello. I am bot. I will serve your enquiries.'"
      ]
     },
     "execution_count": 50,
     "metadata": {},
     "output_type": "execute_result"
    }
   ],
   "source": [
    "reply('Hi')"
   ]
  },
  {
   "cell_type": "code",
   "execution_count": 51,
   "id": "ffce7098",
   "metadata": {},
   "outputs": [
    {
     "data": {
      "text/plain": [
       "\"I'm fine! Thank you. How can I help you?\""
      ]
     },
     "execution_count": 51,
     "metadata": {},
     "output_type": "execute_result"
    }
   ],
   "source": [
    "reply('How are you today?')"
   ]
  },
  {
   "cell_type": "code",
   "execution_count": 52,
   "id": "e90bcf9e",
   "metadata": {},
   "outputs": [
    {
     "data": {
      "text/plain": [
       "'Currently I know about two: Accident_level and Potential_accident_level accidents.'"
      ]
     },
     "execution_count": 52,
     "metadata": {},
     "output_type": "execute_result"
    }
   ],
   "source": [
    "reply('How many types of accidents are there?')"
   ]
  },
  {
   "cell_type": "code",
   "execution_count": 53,
   "id": "7e025b5a",
   "metadata": {},
   "outputs": [
    {
     "data": {
      "text/plain": [
       "' we have around 5 Accident_levels.'"
      ]
     },
     "execution_count": 53,
     "metadata": {},
     "output_type": "execute_result"
    }
   ],
   "source": [
    "reply('How many Accident_level have happened')"
   ]
  },
  {
   "cell_type": "code",
   "execution_count": 54,
   "id": "ba701bd6",
   "metadata": {},
   "outputs": [
    {
     "data": {
      "text/plain": [
       "\"It's glad to know that I have been helpful. Have a good day!\""
      ]
     },
     "execution_count": 54,
     "metadata": {},
     "output_type": "execute_result"
    }
   ],
   "source": [
    "reply('thank you')"
   ]
  },
  {
   "cell_type": "markdown",
   "id": "4f964fb9",
   "metadata": {},
   "source": [
    "#### DL\n",
    "* Using Deep learning modoels for chatbot"
   ]
  },
  {
   "cell_type": "code",
   "execution_count": 71,
   "id": "3a957c52",
   "metadata": {},
   "outputs": [],
   "source": [
    "# Import Libraries\n",
    "import json \n",
    "import numpy as np \n",
    "import tensorflow as tf\n",
    "from tensorflow import keras\n",
    "from tensorflow.keras.models import Sequential\n",
    "from tensorflow.keras.layers import Dense, Embedding, GlobalAveragePooling1D\n",
    "from tensorflow.keras.preprocessing.text import Tokenizer\n",
    "from tensorflow.keras.preprocessing.sequence import pad_sequences\n",
    "from sklearn.preprocessing import LabelEncoder\n",
    "from keras.callbacks import EarlyStopping\n",
    "from keras.callbacks import ModelCheckpoint"
   ]
  },
  {
   "cell_type": "code",
   "execution_count": 72,
   "id": "02c3d9da",
   "metadata": {},
   "outputs": [],
   "source": [
    "with open('data.json') as file:\n",
    "    data = json.load(file)"
   ]
  },
  {
   "cell_type": "code",
   "execution_count": 73,
   "id": "98cda091",
   "metadata": {},
   "outputs": [],
   "source": [
    "#Create a feature\n",
    "training_sentences = []\n",
    "training_labels = []\n",
    "labels = []\n",
    "responses = []\n",
    "for intent in data['intents']:\n",
    "    for pattern in intent['patterns']:\n",
    "        training_sentences.append(pattern)\n",
    "        training_labels.append(intent['tag'])\n",
    "    responses.append(intent['responses'])\n",
    "    \n",
    "    if intent['tag'] not in labels:\n",
    "        labels.append(intent['tag'])        \n",
    "num_classes = len(labels)"
   ]
  },
  {
   "cell_type": "code",
   "execution_count": 74,
   "id": "84baf6f7",
   "metadata": {},
   "outputs": [
    {
     "data": {
      "text/plain": [
       "LabelEncoder()"
      ]
     },
     "execution_count": 74,
     "metadata": {},
     "output_type": "execute_result"
    }
   ],
   "source": [
    "# Label encoding\n",
    "lbl_encoder = LabelEncoder()\n",
    "lbl_encoder.fit(training_labels)\n",
    "training_labels = lbl_encoder.transform(training_labels)"
   ]
  },
  {
   "cell_type": "code",
   "execution_count": 75,
   "id": "d7a52264",
   "metadata": {},
   "outputs": [],
   "source": [
    "# Tokenization\n",
    "vocab_size = 1000\n",
    "embedding_dim = 16\n",
    "max_len = 20\n",
    "oov_token = \"<OOV>\"\n",
    "# Token\n",
    "tokenizer = Tokenizer(num_words=vocab_size, oov_token=oov_token)\n",
    "tokenizer.fit_on_texts(training_sentences)\n",
    "word_index = tokenizer.word_index\n",
    "sequences = tokenizer.texts_to_sequences(training_sentences)\n",
    "padded_sequences = pad_sequences(sequences, truncating='post', maxlen=max_len)"
   ]
  },
  {
   "cell_type": "code",
   "execution_count": 76,
   "id": "a49fa904",
   "metadata": {},
   "outputs": [],
   "source": [
    "# Model\n",
    "model = Sequential()\n",
    "model.add(Embedding(vocab_size, embedding_dim, input_length=max_len))\n",
    "model.add(GlobalAveragePooling1D())\n",
    "model.add(Dense(16, activation='relu'))\n",
    "model.add(Dense(16, activation='relu'))\n",
    "model.add(Dense(num_classes, activation='softmax'))\n",
    "#earlystopping\n",
    "callback = EarlyStopping(monitor='val_loss',mode='min', verbose=0,patience=3)\n",
    "#Compile\n",
    "model.compile(loss='sparse_categorical_crossentropy', optimizer='adam', metrics=['accuracy'])"
   ]
  },
  {
   "cell_type": "code",
   "execution_count": 77,
   "id": "7c766a26",
   "metadata": {},
   "outputs": [
    {
     "name": "stdout",
     "output_type": "stream",
     "text": [
      "Model: \"sequential_7\"\n",
      "_________________________________________________________________\n",
      "Layer (type)                 Output Shape              Param #   \n",
      "=================================================================\n",
      "embedding_5 (Embedding)      (None, 20, 16)            16000     \n",
      "_________________________________________________________________\n",
      "global_average_pooling1d_5 ( (None, 16)                0         \n",
      "_________________________________________________________________\n",
      "dense_14 (Dense)             (None, 16)                272       \n",
      "_________________________________________________________________\n",
      "dense_15 (Dense)             (None, 16)                272       \n",
      "_________________________________________________________________\n",
      "dense_16 (Dense)             (None, 6)                 102       \n",
      "=================================================================\n",
      "Total params: 16,646\n",
      "Trainable params: 16,646\n",
      "Non-trainable params: 0\n",
      "_________________________________________________________________\n"
     ]
    }
   ],
   "source": [
    "model.summary()"
   ]
  },
  {
   "cell_type": "code",
   "execution_count": 79,
   "id": "3d0e1617",
   "metadata": {},
   "outputs": [
    {
     "name": "stdout",
     "output_type": "stream",
     "text": [
      "Epoch 1/300\n",
      "1/1 [==============================] - 0s 3ms/step - loss: 0.1064 - accuracy: 1.0000\n",
      "WARNING:tensorflow:Early stopping conditioned on metric `val_loss` which is not available. Available metrics are: loss,accuracy\n",
      "Epoch 2/300\n",
      "1/1 [==============================] - 0s 2ms/step - loss: 0.1056 - accuracy: 1.0000\n",
      "WARNING:tensorflow:Early stopping conditioned on metric `val_loss` which is not available. Available metrics are: loss,accuracy\n",
      "Epoch 3/300\n",
      "1/1 [==============================] - 0s 4ms/step - loss: 0.1047 - accuracy: 1.0000\n",
      "WARNING:tensorflow:Early stopping conditioned on metric `val_loss` which is not available. Available metrics are: loss,accuracy\n",
      "Epoch 4/300\n",
      "1/1 [==============================] - 0s 2ms/step - loss: 0.1039 - accuracy: 1.0000\n",
      "WARNING:tensorflow:Early stopping conditioned on metric `val_loss` which is not available. Available metrics are: loss,accuracy\n",
      "Epoch 5/300\n",
      "1/1 [==============================] - 0s 4ms/step - loss: 0.1031 - accuracy: 1.0000\n",
      "WARNING:tensorflow:Early stopping conditioned on metric `val_loss` which is not available. Available metrics are: loss,accuracy\n",
      "Epoch 6/300\n",
      "1/1 [==============================] - 0s 2ms/step - loss: 0.1022 - accuracy: 1.0000\n",
      "WARNING:tensorflow:Early stopping conditioned on metric `val_loss` which is not available. Available metrics are: loss,accuracy\n",
      "Epoch 7/300\n",
      "1/1 [==============================] - 0s 2ms/step - loss: 0.1014 - accuracy: 1.0000\n",
      "WARNING:tensorflow:Early stopping conditioned on metric `val_loss` which is not available. Available metrics are: loss,accuracy\n",
      "Epoch 8/300\n",
      "1/1 [==============================] - 0s 6ms/step - loss: 0.1006 - accuracy: 1.0000\n",
      "WARNING:tensorflow:Early stopping conditioned on metric `val_loss` which is not available. Available metrics are: loss,accuracy\n",
      "Epoch 9/300\n",
      "1/1 [==============================] - 0s 3ms/step - loss: 0.0998 - accuracy: 1.0000\n",
      "WARNING:tensorflow:Early stopping conditioned on metric `val_loss` which is not available. Available metrics are: loss,accuracy\n",
      "Epoch 10/300\n",
      "1/1 [==============================] - 0s 2ms/step - loss: 0.0990 - accuracy: 1.0000\n",
      "WARNING:tensorflow:Early stopping conditioned on metric `val_loss` which is not available. Available metrics are: loss,accuracy\n",
      "Epoch 11/300\n",
      "1/1 [==============================] - 0s 2ms/step - loss: 0.0982 - accuracy: 1.0000\n",
      "WARNING:tensorflow:Early stopping conditioned on metric `val_loss` which is not available. Available metrics are: loss,accuracy\n",
      "Epoch 12/300\n",
      "1/1 [==============================] - 0s 2ms/step - loss: 0.0974 - accuracy: 1.0000\n",
      "WARNING:tensorflow:Early stopping conditioned on metric `val_loss` which is not available. Available metrics are: loss,accuracy\n",
      "Epoch 13/300\n",
      "1/1 [==============================] - 0s 3ms/step - loss: 0.0966 - accuracy: 1.0000\n",
      "WARNING:tensorflow:Early stopping conditioned on metric `val_loss` which is not available. Available metrics are: loss,accuracy\n",
      "Epoch 14/300\n",
      "1/1 [==============================] - 0s 2ms/step - loss: 0.0958 - accuracy: 1.0000\n",
      "WARNING:tensorflow:Early stopping conditioned on metric `val_loss` which is not available. Available metrics are: loss,accuracy\n",
      "Epoch 15/300\n",
      "1/1 [==============================] - 0s 2ms/step - loss: 0.0950 - accuracy: 1.0000\n",
      "WARNING:tensorflow:Early stopping conditioned on metric `val_loss` which is not available. Available metrics are: loss,accuracy\n",
      "Epoch 16/300\n",
      "1/1 [==============================] - 0s 3ms/step - loss: 0.0943 - accuracy: 1.0000\n",
      "WARNING:tensorflow:Early stopping conditioned on metric `val_loss` which is not available. Available metrics are: loss,accuracy\n",
      "Epoch 17/300\n",
      "1/1 [==============================] - 0s 3ms/step - loss: 0.0935 - accuracy: 1.0000\n",
      "WARNING:tensorflow:Early stopping conditioned on metric `val_loss` which is not available. Available metrics are: loss,accuracy\n",
      "Epoch 18/300\n",
      "1/1 [==============================] - 0s 3ms/step - loss: 0.0927 - accuracy: 1.0000\n",
      "WARNING:tensorflow:Early stopping conditioned on metric `val_loss` which is not available. Available metrics are: loss,accuracy\n",
      "Epoch 19/300\n",
      "1/1 [==============================] - 0s 998us/step - loss: 0.0920 - accuracy: 1.0000\n",
      "WARNING:tensorflow:Early stopping conditioned on metric `val_loss` which is not available. Available metrics are: loss,accuracy\n",
      "Epoch 20/300\n",
      "1/1 [==============================] - 0s 3ms/step - loss: 0.0912 - accuracy: 1.0000\n",
      "WARNING:tensorflow:Early stopping conditioned on metric `val_loss` which is not available. Available metrics are: loss,accuracy\n",
      "Epoch 21/300\n",
      "1/1 [==============================] - 0s 3ms/step - loss: 0.0904 - accuracy: 1.0000\n",
      "WARNING:tensorflow:Early stopping conditioned on metric `val_loss` which is not available. Available metrics are: loss,accuracy\n",
      "Epoch 22/300\n",
      "1/1 [==============================] - 0s 2ms/step - loss: 0.0896 - accuracy: 1.0000\n",
      "WARNING:tensorflow:Early stopping conditioned on metric `val_loss` which is not available. Available metrics are: loss,accuracy\n",
      "Epoch 23/300\n",
      "1/1 [==============================] - 0s 2ms/step - loss: 0.0889 - accuracy: 1.0000\n",
      "WARNING:tensorflow:Early stopping conditioned on metric `val_loss` which is not available. Available metrics are: loss,accuracy\n",
      "Epoch 24/300\n",
      "1/1 [==============================] - 0s 2ms/step - loss: 0.0881 - accuracy: 1.0000\n",
      "WARNING:tensorflow:Early stopping conditioned on metric `val_loss` which is not available. Available metrics are: loss,accuracy\n",
      "Epoch 25/300\n",
      "1/1 [==============================] - 0s 2ms/step - loss: 0.0874 - accuracy: 1.0000\n",
      "WARNING:tensorflow:Early stopping conditioned on metric `val_loss` which is not available. Available metrics are: loss,accuracy\n",
      "Epoch 26/300\n",
      "1/1 [==============================] - 0s 2ms/step - loss: 0.0866 - accuracy: 1.0000\n",
      "WARNING:tensorflow:Early stopping conditioned on metric `val_loss` which is not available. Available metrics are: loss,accuracy\n",
      "Epoch 27/300\n",
      "1/1 [==============================] - 0s 3ms/step - loss: 0.0859 - accuracy: 1.0000\n",
      "WARNING:tensorflow:Early stopping conditioned on metric `val_loss` which is not available. Available metrics are: loss,accuracy\n",
      "Epoch 28/300\n",
      "1/1 [==============================] - 0s 2ms/step - loss: 0.0851 - accuracy: 1.0000\n",
      "WARNING:tensorflow:Early stopping conditioned on metric `val_loss` which is not available. Available metrics are: loss,accuracy\n",
      "Epoch 29/300\n",
      "1/1 [==============================] - 0s 3ms/step - loss: 0.0844 - accuracy: 1.0000\n",
      "WARNING:tensorflow:Early stopping conditioned on metric `val_loss` which is not available. Available metrics are: loss,accuracy\n",
      "Epoch 30/300\n",
      "1/1 [==============================] - 0s 996us/step - loss: 0.0836 - accuracy: 1.0000\n",
      "WARNING:tensorflow:Early stopping conditioned on metric `val_loss` which is not available. Available metrics are: loss,accuracy\n",
      "Epoch 31/300\n",
      "1/1 [==============================] - 0s 3ms/step - loss: 0.0829 - accuracy: 1.0000\n",
      "WARNING:tensorflow:Early stopping conditioned on metric `val_loss` which is not available. Available metrics are: loss,accuracy\n",
      "Epoch 32/300\n",
      "1/1 [==============================] - 0s 2ms/step - loss: 0.0821 - accuracy: 1.0000\n",
      "WARNING:tensorflow:Early stopping conditioned on metric `val_loss` which is not available. Available metrics are: loss,accuracy\n",
      "Epoch 33/300\n",
      "1/1 [==============================] - 0s 2ms/step - loss: 0.0814 - accuracy: 1.0000\n",
      "WARNING:tensorflow:Early stopping conditioned on metric `val_loss` which is not available. Available metrics are: loss,accuracy\n",
      "Epoch 34/300\n",
      "1/1 [==============================] - 0s 2ms/step - loss: 0.0807 - accuracy: 1.0000\n",
      "WARNING:tensorflow:Early stopping conditioned on metric `val_loss` which is not available. Available metrics are: loss,accuracy\n",
      "Epoch 35/300\n",
      "1/1 [==============================] - 0s 2ms/step - loss: 0.0799 - accuracy: 1.0000\n",
      "WARNING:tensorflow:Early stopping conditioned on metric `val_loss` which is not available. Available metrics are: loss,accuracy\n",
      "Epoch 36/300\n",
      "1/1 [==============================] - 0s 2ms/step - loss: 0.0792 - accuracy: 1.0000\n",
      "WARNING:tensorflow:Early stopping conditioned on metric `val_loss` which is not available. Available metrics are: loss,accuracy\n",
      "Epoch 37/300\n",
      "1/1 [==============================] - 0s 2ms/step - loss: 0.0785 - accuracy: 1.0000\n",
      "WARNING:tensorflow:Early stopping conditioned on metric `val_loss` which is not available. Available metrics are: loss,accuracy\n",
      "Epoch 38/300\n",
      "1/1 [==============================] - 0s 3ms/step - loss: 0.0778 - accuracy: 1.0000\n",
      "WARNING:tensorflow:Early stopping conditioned on metric `val_loss` which is not available. Available metrics are: loss,accuracy\n",
      "Epoch 39/300\n",
      "1/1 [==============================] - 0s 2ms/step - loss: 0.0770 - accuracy: 1.0000\n",
      "WARNING:tensorflow:Early stopping conditioned on metric `val_loss` which is not available. Available metrics are: loss,accuracy\n",
      "Epoch 40/300\n",
      "1/1 [==============================] - 0s 2ms/step - loss: 0.0764 - accuracy: 1.0000\n",
      "WARNING:tensorflow:Early stopping conditioned on metric `val_loss` which is not available. Available metrics are: loss,accuracy\n",
      "Epoch 41/300\n",
      "1/1 [==============================] - 0s 2ms/step - loss: 0.0756 - accuracy: 1.0000\n",
      "WARNING:tensorflow:Early stopping conditioned on metric `val_loss` which is not available. Available metrics are: loss,accuracy\n",
      "Epoch 42/300\n",
      "1/1 [==============================] - 0s 2ms/step - loss: 0.0750 - accuracy: 1.0000\n",
      "WARNING:tensorflow:Early stopping conditioned on metric `val_loss` which is not available. Available metrics are: loss,accuracy\n",
      "Epoch 43/300\n",
      "1/1 [==============================] - 0s 3ms/step - loss: 0.0742 - accuracy: 1.0000\n",
      "WARNING:tensorflow:Early stopping conditioned on metric `val_loss` which is not available. Available metrics are: loss,accuracy\n",
      "Epoch 44/300\n",
      "1/1 [==============================] - 0s 2ms/step - loss: 0.0735 - accuracy: 1.0000\n",
      "WARNING:tensorflow:Early stopping conditioned on metric `val_loss` which is not available. Available metrics are: loss,accuracy\n",
      "Epoch 45/300\n",
      "1/1 [==============================] - 0s 2ms/step - loss: 0.0729 - accuracy: 1.0000\n",
      "WARNING:tensorflow:Early stopping conditioned on metric `val_loss` which is not available. Available metrics are: loss,accuracy\n",
      "Epoch 46/300\n",
      "1/1 [==============================] - 0s 2ms/step - loss: 0.0722 - accuracy: 1.0000\n",
      "WARNING:tensorflow:Early stopping conditioned on metric `val_loss` which is not available. Available metrics are: loss,accuracy\n",
      "Epoch 47/300\n",
      "1/1 [==============================] - 0s 2ms/step - loss: 0.0715 - accuracy: 1.0000\n",
      "WARNING:tensorflow:Early stopping conditioned on metric `val_loss` which is not available. Available metrics are: loss,accuracy\n",
      "Epoch 48/300\n",
      "1/1 [==============================] - 0s 2ms/step - loss: 0.0708 - accuracy: 1.0000\n",
      "WARNING:tensorflow:Early stopping conditioned on metric `val_loss` which is not available. Available metrics are: loss,accuracy\n",
      "Epoch 49/300\n",
      "1/1 [==============================] - 0s 2ms/step - loss: 0.0701 - accuracy: 1.0000\n",
      "WARNING:tensorflow:Early stopping conditioned on metric `val_loss` which is not available. Available metrics are: loss,accuracy\n",
      "Epoch 50/300\n",
      "1/1 [==============================] - 0s 2ms/step - loss: 0.0695 - accuracy: 1.0000\n",
      "WARNING:tensorflow:Early stopping conditioned on metric `val_loss` which is not available. Available metrics are: loss,accuracy\n",
      "Epoch 51/300\n",
      "1/1 [==============================] - 0s 3ms/step - loss: 0.0688 - accuracy: 1.0000\n",
      "WARNING:tensorflow:Early stopping conditioned on metric `val_loss` which is not available. Available metrics are: loss,accuracy\n",
      "Epoch 52/300\n",
      "1/1 [==============================] - 0s 2ms/step - loss: 0.0681 - accuracy: 1.0000\n",
      "WARNING:tensorflow:Early stopping conditioned on metric `val_loss` which is not available. Available metrics are: loss,accuracy\n",
      "Epoch 53/300\n",
      "1/1 [==============================] - 0s 2ms/step - loss: 0.0674 - accuracy: 1.0000\n",
      "WARNING:tensorflow:Early stopping conditioned on metric `val_loss` which is not available. Available metrics are: loss,accuracy\n",
      "Epoch 54/300\n",
      "1/1 [==============================] - 0s 996us/step - loss: 0.0668 - accuracy: 1.0000\n",
      "WARNING:tensorflow:Early stopping conditioned on metric `val_loss` which is not available. Available metrics are: loss,accuracy\n",
      "Epoch 55/300\n",
      "1/1 [==============================] - 0s 2ms/step - loss: 0.0661 - accuracy: 1.0000\n",
      "WARNING:tensorflow:Early stopping conditioned on metric `val_loss` which is not available. Available metrics are: loss,accuracy\n",
      "Epoch 56/300\n",
      "1/1 [==============================] - 0s 2ms/step - loss: 0.0655 - accuracy: 1.0000\n",
      "WARNING:tensorflow:Early stopping conditioned on metric `val_loss` which is not available. Available metrics are: loss,accuracy\n",
      "Epoch 57/300\n",
      "1/1 [==============================] - 0s 2ms/step - loss: 0.0648 - accuracy: 1.0000\n",
      "WARNING:tensorflow:Early stopping conditioned on metric `val_loss` which is not available. Available metrics are: loss,accuracy\n",
      "Epoch 58/300\n",
      "1/1 [==============================] - 0s 997us/step - loss: 0.0642 - accuracy: 1.0000\n",
      "WARNING:tensorflow:Early stopping conditioned on metric `val_loss` which is not available. Available metrics are: loss,accuracy\n",
      "Epoch 59/300\n",
      "1/1 [==============================] - 0s 2ms/step - loss: 0.0635 - accuracy: 1.0000\n",
      "WARNING:tensorflow:Early stopping conditioned on metric `val_loss` which is not available. Available metrics are: loss,accuracy\n",
      "Epoch 60/300\n",
      "1/1 [==============================] - 0s 2ms/step - loss: 0.0629 - accuracy: 1.0000\n",
      "WARNING:tensorflow:Early stopping conditioned on metric `val_loss` which is not available. Available metrics are: loss,accuracy\n",
      "Epoch 61/300\n",
      "1/1 [==============================] - 0s 996us/step - loss: 0.0623 - accuracy: 1.0000\n",
      "WARNING:tensorflow:Early stopping conditioned on metric `val_loss` which is not available. Available metrics are: loss,accuracy\n",
      "Epoch 62/300\n",
      "1/1 [==============================] - 0s 2ms/step - loss: 0.0616 - accuracy: 1.0000\n",
      "WARNING:tensorflow:Early stopping conditioned on metric `val_loss` which is not available. Available metrics are: loss,accuracy\n",
      "Epoch 63/300\n",
      "1/1 [==============================] - 0s 2ms/step - loss: 0.0610 - accuracy: 1.0000\n",
      "WARNING:tensorflow:Early stopping conditioned on metric `val_loss` which is not available. Available metrics are: loss,accuracy\n",
      "Epoch 64/300\n",
      "1/1 [==============================] - 0s 2ms/step - loss: 0.0604 - accuracy: 1.0000\n",
      "WARNING:tensorflow:Early stopping conditioned on metric `val_loss` which is not available. Available metrics are: loss,accuracy\n",
      "Epoch 65/300\n",
      "1/1 [==============================] - 0s 2ms/step - loss: 0.0598 - accuracy: 1.0000\n",
      "WARNING:tensorflow:Early stopping conditioned on metric `val_loss` which is not available. Available metrics are: loss,accuracy\n",
      "Epoch 66/300\n",
      "1/1 [==============================] - 0s 2ms/step - loss: 0.0592 - accuracy: 1.0000\n",
      "WARNING:tensorflow:Early stopping conditioned on metric `val_loss` which is not available. Available metrics are: loss,accuracy\n",
      "Epoch 67/300\n",
      "1/1 [==============================] - 0s 3ms/step - loss: 0.0586 - accuracy: 1.0000\n",
      "WARNING:tensorflow:Early stopping conditioned on metric `val_loss` which is not available. Available metrics are: loss,accuracy\n",
      "Epoch 68/300\n",
      "1/1 [==============================] - 0s 3ms/step - loss: 0.0580 - accuracy: 1.0000\n",
      "WARNING:tensorflow:Early stopping conditioned on metric `val_loss` which is not available. Available metrics are: loss,accuracy\n",
      "Epoch 69/300\n",
      "1/1 [==============================] - 0s 2ms/step - loss: 0.0574 - accuracy: 1.0000\n",
      "WARNING:tensorflow:Early stopping conditioned on metric `val_loss` which is not available. Available metrics are: loss,accuracy\n",
      "Epoch 70/300\n",
      "1/1 [==============================] - 0s 996us/step - loss: 0.0568 - accuracy: 1.0000\n",
      "WARNING:tensorflow:Early stopping conditioned on metric `val_loss` which is not available. Available metrics are: loss,accuracy\n",
      "Epoch 71/300\n",
      "1/1 [==============================] - 0s 2ms/step - loss: 0.0562 - accuracy: 1.0000\n",
      "WARNING:tensorflow:Early stopping conditioned on metric `val_loss` which is not available. Available metrics are: loss,accuracy\n",
      "Epoch 72/300\n",
      "1/1 [==============================] - 0s 3ms/step - loss: 0.0556 - accuracy: 1.0000\n",
      "WARNING:tensorflow:Early stopping conditioned on metric `val_loss` which is not available. Available metrics are: loss,accuracy\n",
      "Epoch 73/300\n",
      "1/1 [==============================] - 0s 999us/step - loss: 0.0551 - accuracy: 1.0000\n",
      "WARNING:tensorflow:Early stopping conditioned on metric `val_loss` which is not available. Available metrics are: loss,accuracy\n",
      "Epoch 74/300\n",
      "1/1 [==============================] - 0s 2ms/step - loss: 0.0545 - accuracy: 1.0000\n",
      "WARNING:tensorflow:Early stopping conditioned on metric `val_loss` which is not available. Available metrics are: loss,accuracy\n",
      "Epoch 75/300\n",
      "1/1 [==============================] - 0s 2ms/step - loss: 0.0539 - accuracy: 1.0000\n",
      "WARNING:tensorflow:Early stopping conditioned on metric `val_loss` which is not available. Available metrics are: loss,accuracy\n",
      "Epoch 76/300\n",
      "1/1 [==============================] - 0s 2ms/step - loss: 0.0534 - accuracy: 1.0000\n",
      "WARNING:tensorflow:Early stopping conditioned on metric `val_loss` which is not available. Available metrics are: loss,accuracy\n",
      "Epoch 77/300\n",
      "1/1 [==============================] - 0s 998us/step - loss: 0.0528 - accuracy: 1.0000\n",
      "WARNING:tensorflow:Early stopping conditioned on metric `val_loss` which is not available. Available metrics are: loss,accuracy\n",
      "Epoch 78/300\n",
      "1/1 [==============================] - 0s 2ms/step - loss: 0.0523 - accuracy: 1.0000\n",
      "WARNING:tensorflow:Early stopping conditioned on metric `val_loss` which is not available. Available metrics are: loss,accuracy\n",
      "Epoch 79/300\n",
      "1/1 [==============================] - 0s 2ms/step - loss: 0.0517 - accuracy: 1.0000\n",
      "WARNING:tensorflow:Early stopping conditioned on metric `val_loss` which is not available. Available metrics are: loss,accuracy\n",
      "Epoch 80/300\n",
      "1/1 [==============================] - 0s 2ms/step - loss: 0.0512 - accuracy: 1.0000\n",
      "WARNING:tensorflow:Early stopping conditioned on metric `val_loss` which is not available. Available metrics are: loss,accuracy\n",
      "Epoch 81/300\n",
      "1/1 [==============================] - 0s 998us/step - loss: 0.0507 - accuracy: 1.0000\n",
      "WARNING:tensorflow:Early stopping conditioned on metric `val_loss` which is not available. Available metrics are: loss,accuracy\n",
      "Epoch 82/300\n",
      "1/1 [==============================] - 0s 2ms/step - loss: 0.0501 - accuracy: 1.0000\n",
      "WARNING:tensorflow:Early stopping conditioned on metric `val_loss` which is not available. Available metrics are: loss,accuracy\n",
      "Epoch 83/300\n",
      "1/1 [==============================] - 0s 2ms/step - loss: 0.0496 - accuracy: 1.0000\n",
      "WARNING:tensorflow:Early stopping conditioned on metric `val_loss` which is not available. Available metrics are: loss,accuracy\n",
      "Epoch 84/300\n",
      "1/1 [==============================] - 0s 2ms/step - loss: 0.0491 - accuracy: 1.0000\n",
      "WARNING:tensorflow:Early stopping conditioned on metric `val_loss` which is not available. Available metrics are: loss,accuracy\n",
      "Epoch 85/300\n",
      "1/1 [==============================] - 0s 2ms/step - loss: 0.0486 - accuracy: 1.0000\n",
      "WARNING:tensorflow:Early stopping conditioned on metric `val_loss` which is not available. Available metrics are: loss,accuracy\n",
      "Epoch 86/300\n",
      "1/1 [==============================] - 0s 2ms/step - loss: 0.0481 - accuracy: 1.0000\n",
      "WARNING:tensorflow:Early stopping conditioned on metric `val_loss` which is not available. Available metrics are: loss,accuracy\n",
      "Epoch 87/300\n",
      "1/1 [==============================] - 0s 2ms/step - loss: 0.0476 - accuracy: 1.0000\n",
      "WARNING:tensorflow:Early stopping conditioned on metric `val_loss` which is not available. Available metrics are: loss,accuracy\n",
      "Epoch 88/300\n",
      "1/1 [==============================] - 0s 997us/step - loss: 0.0471 - accuracy: 1.0000\n",
      "WARNING:tensorflow:Early stopping conditioned on metric `val_loss` which is not available. Available metrics are: loss,accuracy\n",
      "Epoch 89/300\n",
      "1/1 [==============================] - 0s 2ms/step - loss: 0.0466 - accuracy: 1.0000\n",
      "WARNING:tensorflow:Early stopping conditioned on metric `val_loss` which is not available. Available metrics are: loss,accuracy\n",
      "Epoch 90/300\n",
      "1/1 [==============================] - 0s 3ms/step - loss: 0.0461 - accuracy: 1.0000\n",
      "WARNING:tensorflow:Early stopping conditioned on metric `val_loss` which is not available. Available metrics are: loss,accuracy\n",
      "Epoch 91/300\n",
      "1/1 [==============================] - 0s 994us/step - loss: 0.0456 - accuracy: 1.0000\n",
      "WARNING:tensorflow:Early stopping conditioned on metric `val_loss` which is not available. Available metrics are: loss,accuracy\n",
      "Epoch 92/300\n",
      "1/1 [==============================] - 0s 3ms/step - loss: 0.0451 - accuracy: 1.0000\n",
      "WARNING:tensorflow:Early stopping conditioned on metric `val_loss` which is not available. Available metrics are: loss,accuracy\n",
      "Epoch 93/300\n",
      "1/1 [==============================] - 0s 2ms/step - loss: 0.0447 - accuracy: 1.0000\n",
      "WARNING:tensorflow:Early stopping conditioned on metric `val_loss` which is not available. Available metrics are: loss,accuracy\n",
      "Epoch 94/300\n",
      "1/1 [==============================] - 0s 2ms/step - loss: 0.0442 - accuracy: 1.0000\n",
      "WARNING:tensorflow:Early stopping conditioned on metric `val_loss` which is not available. Available metrics are: loss,accuracy\n",
      "Epoch 95/300\n",
      "1/1 [==============================] - 0s 2ms/step - loss: 0.0438 - accuracy: 1.0000\n",
      "WARNING:tensorflow:Early stopping conditioned on metric `val_loss` which is not available. Available metrics are: loss,accuracy\n",
      "Epoch 96/300\n",
      "1/1 [==============================] - 0s 998us/step - loss: 0.0433 - accuracy: 1.0000\n",
      "WARNING:tensorflow:Early stopping conditioned on metric `val_loss` which is not available. Available metrics are: loss,accuracy\n",
      "Epoch 97/300\n",
      "1/1 [==============================] - 0s 2ms/step - loss: 0.0429 - accuracy: 1.0000\n",
      "WARNING:tensorflow:Early stopping conditioned on metric `val_loss` which is not available. Available metrics are: loss,accuracy\n",
      "Epoch 98/300\n",
      "1/1 [==============================] - 0s 2ms/step - loss: 0.0424 - accuracy: 1.0000\n",
      "WARNING:tensorflow:Early stopping conditioned on metric `val_loss` which is not available. Available metrics are: loss,accuracy\n",
      "Epoch 99/300\n",
      "1/1 [==============================] - 0s 2ms/step - loss: 0.0420 - accuracy: 1.0000\n",
      "WARNING:tensorflow:Early stopping conditioned on metric `val_loss` which is not available. Available metrics are: loss,accuracy\n",
      "Epoch 100/300\n",
      "1/1 [==============================] - 0s 2ms/step - loss: 0.0415 - accuracy: 1.0000\n",
      "WARNING:tensorflow:Early stopping conditioned on metric `val_loss` which is not available. Available metrics are: loss,accuracy\n",
      "Epoch 101/300\n",
      "1/1 [==============================] - 0s 2ms/step - loss: 0.0411 - accuracy: 1.0000\n",
      "WARNING:tensorflow:Early stopping conditioned on metric `val_loss` which is not available. Available metrics are: loss,accuracy\n",
      "Epoch 102/300\n",
      "1/1 [==============================] - 0s 2ms/step - loss: 0.0407 - accuracy: 1.0000\n",
      "WARNING:tensorflow:Early stopping conditioned on metric `val_loss` which is not available. Available metrics are: loss,accuracy\n",
      "Epoch 103/300\n",
      "1/1 [==============================] - 0s 2ms/step - loss: 0.0403 - accuracy: 1.0000\n",
      "WARNING:tensorflow:Early stopping conditioned on metric `val_loss` which is not available. Available metrics are: loss,accuracy\n",
      "Epoch 104/300\n",
      "1/1 [==============================] - 0s 2ms/step - loss: 0.0399 - accuracy: 1.0000\n",
      "WARNING:tensorflow:Early stopping conditioned on metric `val_loss` which is not available. Available metrics are: loss,accuracy\n",
      "Epoch 105/300\n",
      "1/1 [==============================] - 0s 998us/step - loss: 0.0394 - accuracy: 1.0000\n",
      "WARNING:tensorflow:Early stopping conditioned on metric `val_loss` which is not available. Available metrics are: loss,accuracy\n",
      "Epoch 106/300\n",
      "1/1 [==============================] - 0s 2ms/step - loss: 0.0391 - accuracy: 1.0000\n",
      "WARNING:tensorflow:Early stopping conditioned on metric `val_loss` which is not available. Available metrics are: loss,accuracy\n",
      "Epoch 107/300\n",
      "1/1 [==============================] - 0s 2ms/step - loss: 0.0387 - accuracy: 1.0000\n",
      "WARNING:tensorflow:Early stopping conditioned on metric `val_loss` which is not available. Available metrics are: loss,accuracy\n",
      "Epoch 108/300\n",
      "1/1 [==============================] - 0s 997us/step - loss: 0.0383 - accuracy: 1.0000\n",
      "WARNING:tensorflow:Early stopping conditioned on metric `val_loss` which is not available. Available metrics are: loss,accuracy\n",
      "Epoch 109/300\n",
      "1/1 [==============================] - 0s 997us/step - loss: 0.0379 - accuracy: 1.0000\n",
      "WARNING:tensorflow:Early stopping conditioned on metric `val_loss` which is not available. Available metrics are: loss,accuracy\n",
      "Epoch 110/300\n",
      "1/1 [==============================] - 0s 2ms/step - loss: 0.0375 - accuracy: 1.0000\n",
      "WARNING:tensorflow:Early stopping conditioned on metric `val_loss` which is not available. Available metrics are: loss,accuracy\n",
      "Epoch 111/300\n",
      "1/1 [==============================] - 0s 2ms/step - loss: 0.0371 - accuracy: 1.0000\n",
      "WARNING:tensorflow:Early stopping conditioned on metric `val_loss` which is not available. Available metrics are: loss,accuracy\n",
      "Epoch 112/300\n",
      "1/1 [==============================] - 0s 2ms/step - loss: 0.0368 - accuracy: 1.0000\n",
      "WARNING:tensorflow:Early stopping conditioned on metric `val_loss` which is not available. Available metrics are: loss,accuracy\n",
      "Epoch 113/300\n",
      "1/1 [==============================] - 0s 2ms/step - loss: 0.0364 - accuracy: 1.0000\n",
      "WARNING:tensorflow:Early stopping conditioned on metric `val_loss` which is not available. Available metrics are: loss,accuracy\n",
      "Epoch 114/300\n",
      "1/1 [==============================] - 0s 2ms/step - loss: 0.0360 - accuracy: 1.0000\n",
      "WARNING:tensorflow:Early stopping conditioned on metric `val_loss` which is not available. Available metrics are: loss,accuracy\n",
      "Epoch 115/300\n",
      "1/1 [==============================] - 0s 3ms/step - loss: 0.0357 - accuracy: 1.0000\n",
      "WARNING:tensorflow:Early stopping conditioned on metric `val_loss` which is not available. Available metrics are: loss,accuracy\n",
      "Epoch 116/300\n",
      "1/1 [==============================] - 0s 2ms/step - loss: 0.0353 - accuracy: 1.0000\n",
      "WARNING:tensorflow:Early stopping conditioned on metric `val_loss` which is not available. Available metrics are: loss,accuracy\n",
      "Epoch 117/300\n",
      "1/1 [==============================] - 0s 1ms/step - loss: 0.0349 - accuracy: 1.0000\n",
      "WARNING:tensorflow:Early stopping conditioned on metric `val_loss` which is not available. Available metrics are: loss,accuracy\n",
      "Epoch 118/300\n",
      "1/1 [==============================] - 0s 2ms/step - loss: 0.0346 - accuracy: 1.0000\n",
      "WARNING:tensorflow:Early stopping conditioned on metric `val_loss` which is not available. Available metrics are: loss,accuracy\n",
      "Epoch 119/300\n",
      "1/1 [==============================] - 0s 2ms/step - loss: 0.0343 - accuracy: 1.0000\n",
      "WARNING:tensorflow:Early stopping conditioned on metric `val_loss` which is not available. Available metrics are: loss,accuracy\n",
      "Epoch 120/300\n",
      "1/1 [==============================] - 0s 999us/step - loss: 0.0339 - accuracy: 1.0000\n",
      "WARNING:tensorflow:Early stopping conditioned on metric `val_loss` which is not available. Available metrics are: loss,accuracy\n",
      "Epoch 121/300\n",
      "1/1 [==============================] - 0s 2ms/step - loss: 0.0336 - accuracy: 1.0000\n",
      "WARNING:tensorflow:Early stopping conditioned on metric `val_loss` which is not available. Available metrics are: loss,accuracy\n",
      "Epoch 122/300\n",
      "1/1 [==============================] - 0s 2ms/step - loss: 0.0333 - accuracy: 1.0000\n",
      "WARNING:tensorflow:Early stopping conditioned on metric `val_loss` which is not available. Available metrics are: loss,accuracy\n",
      "Epoch 123/300\n",
      "1/1 [==============================] - 0s 2ms/step - loss: 0.0329 - accuracy: 1.0000\n",
      "WARNING:tensorflow:Early stopping conditioned on metric `val_loss` which is not available. Available metrics are: loss,accuracy\n",
      "Epoch 124/300\n",
      "1/1 [==============================] - 0s 2ms/step - loss: 0.0326 - accuracy: 1.0000\n",
      "WARNING:tensorflow:Early stopping conditioned on metric `val_loss` which is not available. Available metrics are: loss,accuracy\n",
      "Epoch 125/300\n",
      "1/1 [==============================] - 0s 2ms/step - loss: 0.0323 - accuracy: 1.0000\n",
      "WARNING:tensorflow:Early stopping conditioned on metric `val_loss` which is not available. Available metrics are: loss,accuracy\n",
      "Epoch 126/300\n",
      "1/1 [==============================] - 0s 2ms/step - loss: 0.0320 - accuracy: 1.0000\n",
      "WARNING:tensorflow:Early stopping conditioned on metric `val_loss` which is not available. Available metrics are: loss,accuracy\n",
      "Epoch 127/300\n",
      "1/1 [==============================] - 0s 2ms/step - loss: 0.0317 - accuracy: 1.0000\n",
      "WARNING:tensorflow:Early stopping conditioned on metric `val_loss` which is not available. Available metrics are: loss,accuracy\n",
      "Epoch 128/300\n",
      "1/1 [==============================] - 0s 997us/step - loss: 0.0314 - accuracy: 1.0000\n",
      "WARNING:tensorflow:Early stopping conditioned on metric `val_loss` which is not available. Available metrics are: loss,accuracy\n",
      "Epoch 129/300\n",
      "1/1 [==============================] - 0s 2ms/step - loss: 0.0311 - accuracy: 1.0000\n",
      "WARNING:tensorflow:Early stopping conditioned on metric `val_loss` which is not available. Available metrics are: loss,accuracy\n",
      "Epoch 130/300\n",
      "1/1 [==============================] - 0s 2ms/step - loss: 0.0308 - accuracy: 1.0000\n",
      "WARNING:tensorflow:Early stopping conditioned on metric `val_loss` which is not available. Available metrics are: loss,accuracy\n",
      "Epoch 131/300\n",
      "1/1 [==============================] - 0s 2ms/step - loss: 0.0305 - accuracy: 1.0000\n",
      "WARNING:tensorflow:Early stopping conditioned on metric `val_loss` which is not available. Available metrics are: loss,accuracy\n",
      "Epoch 132/300\n",
      "1/1 [==============================] - 0s 990us/step - loss: 0.0302 - accuracy: 1.0000\n",
      "WARNING:tensorflow:Early stopping conditioned on metric `val_loss` which is not available. Available metrics are: loss,accuracy\n",
      "Epoch 133/300\n",
      "1/1 [==============================] - 0s 2ms/step - loss: 0.0299 - accuracy: 1.0000\n",
      "WARNING:tensorflow:Early stopping conditioned on metric `val_loss` which is not available. Available metrics are: loss,accuracy\n",
      "Epoch 134/300\n",
      "1/1 [==============================] - 0s 2ms/step - loss: 0.0296 - accuracy: 1.0000\n",
      "WARNING:tensorflow:Early stopping conditioned on metric `val_loss` which is not available. Available metrics are: loss,accuracy\n",
      "Epoch 135/300\n",
      "1/1 [==============================] - 0s 2ms/step - loss: 0.0294 - accuracy: 1.0000\n",
      "WARNING:tensorflow:Early stopping conditioned on metric `val_loss` which is not available. Available metrics are: loss,accuracy\n",
      "Epoch 136/300\n",
      "1/1 [==============================] - 0s 2ms/step - loss: 0.0291 - accuracy: 1.0000\n",
      "WARNING:tensorflow:Early stopping conditioned on metric `val_loss` which is not available. Available metrics are: loss,accuracy\n",
      "Epoch 137/300\n",
      "1/1 [==============================] - 0s 995us/step - loss: 0.0288 - accuracy: 1.0000\n",
      "WARNING:tensorflow:Early stopping conditioned on metric `val_loss` which is not available. Available metrics are: loss,accuracy\n",
      "Epoch 138/300\n",
      "1/1 [==============================] - 0s 2ms/step - loss: 0.0285 - accuracy: 1.0000\n",
      "WARNING:tensorflow:Early stopping conditioned on metric `val_loss` which is not available. Available metrics are: loss,accuracy\n",
      "Epoch 139/300\n",
      "1/1 [==============================] - 0s 3ms/step - loss: 0.0283 - accuracy: 1.0000\n",
      "WARNING:tensorflow:Early stopping conditioned on metric `val_loss` which is not available. Available metrics are: loss,accuracy\n",
      "Epoch 140/300\n",
      "1/1 [==============================] - 0s 998us/step - loss: 0.0280 - accuracy: 1.0000\n",
      "WARNING:tensorflow:Early stopping conditioned on metric `val_loss` which is not available. Available metrics are: loss,accuracy\n",
      "Epoch 141/300\n",
      "1/1 [==============================] - 0s 2ms/step - loss: 0.0278 - accuracy: 1.0000\n",
      "WARNING:tensorflow:Early stopping conditioned on metric `val_loss` which is not available. Available metrics are: loss,accuracy\n",
      "Epoch 142/300\n",
      "1/1 [==============================] - 0s 3ms/step - loss: 0.0275 - accuracy: 1.0000\n",
      "WARNING:tensorflow:Early stopping conditioned on metric `val_loss` which is not available. Available metrics are: loss,accuracy\n",
      "Epoch 143/300\n",
      "1/1 [==============================] - 0s 3ms/step - loss: 0.0273 - accuracy: 1.0000\n",
      "WARNING:tensorflow:Early stopping conditioned on metric `val_loss` which is not available. Available metrics are: loss,accuracy\n",
      "Epoch 144/300\n",
      "1/1 [==============================] - 0s 2ms/step - loss: 0.0270 - accuracy: 1.0000\n",
      "WARNING:tensorflow:Early stopping conditioned on metric `val_loss` which is not available. Available metrics are: loss,accuracy\n",
      "Epoch 145/300\n",
      "1/1 [==============================] - 0s 998us/step - loss: 0.0268 - accuracy: 1.0000\n",
      "WARNING:tensorflow:Early stopping conditioned on metric `val_loss` which is not available. Available metrics are: loss,accuracy\n",
      "Epoch 146/300\n",
      "1/1 [==============================] - 0s 2ms/step - loss: 0.0265 - accuracy: 1.0000\n",
      "WARNING:tensorflow:Early stopping conditioned on metric `val_loss` which is not available. Available metrics are: loss,accuracy\n",
      "Epoch 147/300\n",
      "1/1 [==============================] - 0s 3ms/step - loss: 0.0263 - accuracy: 1.0000\n",
      "WARNING:tensorflow:Early stopping conditioned on metric `val_loss` which is not available. Available metrics are: loss,accuracy\n",
      "Epoch 148/300\n",
      "1/1 [==============================] - 0s 2ms/step - loss: 0.0261 - accuracy: 1.0000\n",
      "WARNING:tensorflow:Early stopping conditioned on metric `val_loss` which is not available. Available metrics are: loss,accuracy\n",
      "Epoch 149/300\n",
      "1/1 [==============================] - 0s 2ms/step - loss: 0.0258 - accuracy: 1.0000\n",
      "WARNING:tensorflow:Early stopping conditioned on metric `val_loss` which is not available. Available metrics are: loss,accuracy\n",
      "Epoch 150/300\n",
      "1/1 [==============================] - 0s 3ms/step - loss: 0.0256 - accuracy: 1.0000\n",
      "WARNING:tensorflow:Early stopping conditioned on metric `val_loss` which is not available. Available metrics are: loss,accuracy\n",
      "Epoch 151/300\n",
      "1/1 [==============================] - 0s 2ms/step - loss: 0.0254 - accuracy: 1.0000\n",
      "WARNING:tensorflow:Early stopping conditioned on metric `val_loss` which is not available. Available metrics are: loss,accuracy\n",
      "Epoch 152/300\n",
      "1/1 [==============================] - 0s 3ms/step - loss: 0.0251 - accuracy: 1.0000\n",
      "WARNING:tensorflow:Early stopping conditioned on metric `val_loss` which is not available. Available metrics are: loss,accuracy\n",
      "Epoch 153/300\n",
      "1/1 [==============================] - 0s 2ms/step - loss: 0.0249 - accuracy: 1.0000\n",
      "WARNING:tensorflow:Early stopping conditioned on metric `val_loss` which is not available. Available metrics are: loss,accuracy\n",
      "Epoch 154/300\n",
      "1/1 [==============================] - 0s 2ms/step - loss: 0.0247 - accuracy: 1.0000\n",
      "WARNING:tensorflow:Early stopping conditioned on metric `val_loss` which is not available. Available metrics are: loss,accuracy\n",
      "Epoch 155/300\n",
      "1/1 [==============================] - 0s 2ms/step - loss: 0.0245 - accuracy: 1.0000\n",
      "WARNING:tensorflow:Early stopping conditioned on metric `val_loss` which is not available. Available metrics are: loss,accuracy\n",
      "Epoch 156/300\n",
      "1/1 [==============================] - 0s 3ms/step - loss: 0.0243 - accuracy: 1.0000\n",
      "WARNING:tensorflow:Early stopping conditioned on metric `val_loss` which is not available. Available metrics are: loss,accuracy\n",
      "Epoch 157/300\n",
      "1/1 [==============================] - 0s 2ms/step - loss: 0.0241 - accuracy: 1.0000\n",
      "WARNING:tensorflow:Early stopping conditioned on metric `val_loss` which is not available. Available metrics are: loss,accuracy\n",
      "Epoch 158/300\n",
      "1/1 [==============================] - 0s 2ms/step - loss: 0.0239 - accuracy: 1.0000\n",
      "WARNING:tensorflow:Early stopping conditioned on metric `val_loss` which is not available. Available metrics are: loss,accuracy\n",
      "Epoch 159/300\n",
      "1/1 [==============================] - 0s 2ms/step - loss: 0.0237 - accuracy: 1.0000\n",
      "WARNING:tensorflow:Early stopping conditioned on metric `val_loss` which is not available. Available metrics are: loss,accuracy\n",
      "Epoch 160/300\n",
      "1/1 [==============================] - 0s 2ms/step - loss: 0.0234 - accuracy: 1.0000\n",
      "WARNING:tensorflow:Early stopping conditioned on metric `val_loss` which is not available. Available metrics are: loss,accuracy\n",
      "Epoch 161/300\n",
      "1/1 [==============================] - 0s 998us/step - loss: 0.0232 - accuracy: 1.0000\n",
      "WARNING:tensorflow:Early stopping conditioned on metric `val_loss` which is not available. Available metrics are: loss,accuracy\n",
      "Epoch 162/300\n",
      "1/1 [==============================] - 0s 2ms/step - loss: 0.0231 - accuracy: 1.0000\n",
      "WARNING:tensorflow:Early stopping conditioned on metric `val_loss` which is not available. Available metrics are: loss,accuracy\n",
      "Epoch 163/300\n",
      "1/1 [==============================] - 0s 2ms/step - loss: 0.0229 - accuracy: 1.0000\n",
      "WARNING:tensorflow:Early stopping conditioned on metric `val_loss` which is not available. Available metrics are: loss,accuracy\n",
      "Epoch 164/300\n",
      "1/1 [==============================] - 0s 994us/step - loss: 0.0227 - accuracy: 1.0000\n",
      "WARNING:tensorflow:Early stopping conditioned on metric `val_loss` which is not available. Available metrics are: loss,accuracy\n",
      "Epoch 165/300\n",
      "1/1 [==============================] - 0s 2ms/step - loss: 0.0225 - accuracy: 1.0000\n",
      "WARNING:tensorflow:Early stopping conditioned on metric `val_loss` which is not available. Available metrics are: loss,accuracy\n",
      "Epoch 166/300\n",
      "1/1 [==============================] - 0s 2ms/step - loss: 0.0223 - accuracy: 1.0000\n",
      "WARNING:tensorflow:Early stopping conditioned on metric `val_loss` which is not available. Available metrics are: loss,accuracy\n",
      "Epoch 167/300\n",
      "1/1 [==============================] - 0s 2ms/step - loss: 0.0221 - accuracy: 1.0000\n",
      "WARNING:tensorflow:Early stopping conditioned on metric `val_loss` which is not available. Available metrics are: loss,accuracy\n",
      "Epoch 168/300\n",
      "1/1 [==============================] - 0s 3ms/step - loss: 0.0219 - accuracy: 1.0000\n",
      "WARNING:tensorflow:Early stopping conditioned on metric `val_loss` which is not available. Available metrics are: loss,accuracy\n",
      "Epoch 169/300\n",
      "1/1 [==============================] - 0s 2ms/step - loss: 0.0217 - accuracy: 1.0000\n",
      "WARNING:tensorflow:Early stopping conditioned on metric `val_loss` which is not available. Available metrics are: loss,accuracy\n",
      "Epoch 170/300\n",
      "1/1 [==============================] - 0s 2ms/step - loss: 0.0216 - accuracy: 1.0000\n",
      "WARNING:tensorflow:Early stopping conditioned on metric `val_loss` which is not available. Available metrics are: loss,accuracy\n",
      "Epoch 171/300\n",
      "1/1 [==============================] - 0s 2ms/step - loss: 0.0214 - accuracy: 1.0000\n",
      "WARNING:tensorflow:Early stopping conditioned on metric `val_loss` which is not available. Available metrics are: loss,accuracy\n",
      "Epoch 172/300\n",
      "1/1 [==============================] - 0s 2ms/step - loss: 0.0212 - accuracy: 1.0000\n",
      "WARNING:tensorflow:Early stopping conditioned on metric `val_loss` which is not available. Available metrics are: loss,accuracy\n",
      "Epoch 173/300\n",
      "1/1 [==============================] - 0s 2ms/step - loss: 0.0210 - accuracy: 1.0000\n",
      "WARNING:tensorflow:Early stopping conditioned on metric `val_loss` which is not available. Available metrics are: loss,accuracy\n",
      "Epoch 174/300\n",
      "1/1 [==============================] - 0s 3ms/step - loss: 0.0209 - accuracy: 1.0000\n",
      "WARNING:tensorflow:Early stopping conditioned on metric `val_loss` which is not available. Available metrics are: loss,accuracy\n",
      "Epoch 175/300\n",
      "1/1 [==============================] - 0s 2ms/step - loss: 0.0207 - accuracy: 1.0000\n",
      "WARNING:tensorflow:Early stopping conditioned on metric `val_loss` which is not available. Available metrics are: loss,accuracy\n",
      "Epoch 176/300\n",
      "1/1 [==============================] - 0s 2ms/step - loss: 0.0205 - accuracy: 1.0000\n",
      "WARNING:tensorflow:Early stopping conditioned on metric `val_loss` which is not available. Available metrics are: loss,accuracy\n",
      "Epoch 177/300\n",
      "1/1 [==============================] - 0s 3ms/step - loss: 0.0204 - accuracy: 1.0000\n",
      "WARNING:tensorflow:Early stopping conditioned on metric `val_loss` which is not available. Available metrics are: loss,accuracy\n",
      "Epoch 178/300\n",
      "1/1 [==============================] - 0s 3ms/step - loss: 0.0202 - accuracy: 1.0000\n",
      "WARNING:tensorflow:Early stopping conditioned on metric `val_loss` which is not available. Available metrics are: loss,accuracy\n",
      "Epoch 179/300\n",
      "1/1 [==============================] - 0s 3ms/step - loss: 0.0200 - accuracy: 1.0000\n",
      "WARNING:tensorflow:Early stopping conditioned on metric `val_loss` which is not available. Available metrics are: loss,accuracy\n",
      "Epoch 180/300\n",
      "1/1 [==============================] - 0s 3ms/step - loss: 0.0199 - accuracy: 1.0000\n",
      "WARNING:tensorflow:Early stopping conditioned on metric `val_loss` which is not available. Available metrics are: loss,accuracy\n",
      "Epoch 181/300\n",
      "1/1 [==============================] - 0s 2ms/step - loss: 0.0197 - accuracy: 1.0000\n",
      "WARNING:tensorflow:Early stopping conditioned on metric `val_loss` which is not available. Available metrics are: loss,accuracy\n",
      "Epoch 182/300\n",
      "1/1 [==============================] - 0s 2ms/step - loss: 0.0196 - accuracy: 1.0000\n",
      "WARNING:tensorflow:Early stopping conditioned on metric `val_loss` which is not available. Available metrics are: loss,accuracy\n",
      "Epoch 183/300\n",
      "1/1 [==============================] - 0s 3ms/step - loss: 0.0194 - accuracy: 1.0000\n",
      "WARNING:tensorflow:Early stopping conditioned on metric `val_loss` which is not available. Available metrics are: loss,accuracy\n",
      "Epoch 184/300\n",
      "1/1 [==============================] - 0s 3ms/step - loss: 0.0193 - accuracy: 1.0000\n",
      "WARNING:tensorflow:Early stopping conditioned on metric `val_loss` which is not available. Available metrics are: loss,accuracy\n",
      "Epoch 185/300\n",
      "1/1 [==============================] - 0s 3ms/step - loss: 0.0191 - accuracy: 1.0000\n",
      "WARNING:tensorflow:Early stopping conditioned on metric `val_loss` which is not available. Available metrics are: loss,accuracy\n",
      "Epoch 186/300\n",
      "1/1 [==============================] - 0s 2ms/step - loss: 0.0190 - accuracy: 1.0000\n",
      "WARNING:tensorflow:Early stopping conditioned on metric `val_loss` which is not available. Available metrics are: loss,accuracy\n",
      "Epoch 187/300\n",
      "1/1 [==============================] - 0s 2ms/step - loss: 0.0188 - accuracy: 1.0000\n",
      "WARNING:tensorflow:Early stopping conditioned on metric `val_loss` which is not available. Available metrics are: loss,accuracy\n",
      "Epoch 188/300\n",
      "1/1 [==============================] - 0s 4ms/step - loss: 0.0187 - accuracy: 1.0000\n",
      "WARNING:tensorflow:Early stopping conditioned on metric `val_loss` which is not available. Available metrics are: loss,accuracy\n",
      "Epoch 189/300\n",
      "1/1 [==============================] - 0s 3ms/step - loss: 0.0185 - accuracy: 1.0000\n",
      "WARNING:tensorflow:Early stopping conditioned on metric `val_loss` which is not available. Available metrics are: loss,accuracy\n",
      "Epoch 190/300\n",
      "1/1 [==============================] - 0s 3ms/step - loss: 0.0184 - accuracy: 1.0000\n",
      "WARNING:tensorflow:Early stopping conditioned on metric `val_loss` which is not available. Available metrics are: loss,accuracy\n",
      "Epoch 191/300\n",
      "1/1 [==============================] - 0s 3ms/step - loss: 0.0182 - accuracy: 1.0000\n",
      "WARNING:tensorflow:Early stopping conditioned on metric `val_loss` which is not available. Available metrics are: loss,accuracy\n",
      "Epoch 192/300\n",
      "1/1 [==============================] - 0s 3ms/step - loss: 0.0181 - accuracy: 1.0000\n",
      "WARNING:tensorflow:Early stopping conditioned on metric `val_loss` which is not available. Available metrics are: loss,accuracy\n",
      "Epoch 193/300\n",
      "1/1 [==============================] - 0s 3ms/step - loss: 0.0180 - accuracy: 1.0000\n",
      "WARNING:tensorflow:Early stopping conditioned on metric `val_loss` which is not available. Available metrics are: loss,accuracy\n",
      "Epoch 194/300\n",
      "1/1 [==============================] - 0s 2ms/step - loss: 0.0178 - accuracy: 1.0000\n",
      "WARNING:tensorflow:Early stopping conditioned on metric `val_loss` which is not available. Available metrics are: loss,accuracy\n",
      "Epoch 195/300\n",
      "1/1 [==============================] - 0s 4ms/step - loss: 0.0177 - accuracy: 1.0000\n",
      "WARNING:tensorflow:Early stopping conditioned on metric `val_loss` which is not available. Available metrics are: loss,accuracy\n",
      "Epoch 196/300\n",
      "1/1 [==============================] - 0s 3ms/step - loss: 0.0176 - accuracy: 1.0000\n",
      "WARNING:tensorflow:Early stopping conditioned on metric `val_loss` which is not available. Available metrics are: loss,accuracy\n",
      "Epoch 197/300\n",
      "1/1 [==============================] - 0s 2ms/step - loss: 0.0174 - accuracy: 1.0000\n",
      "WARNING:tensorflow:Early stopping conditioned on metric `val_loss` which is not available. Available metrics are: loss,accuracy\n",
      "Epoch 198/300\n",
      "1/1 [==============================] - 0s 3ms/step - loss: 0.0173 - accuracy: 1.0000\n",
      "WARNING:tensorflow:Early stopping conditioned on metric `val_loss` which is not available. Available metrics are: loss,accuracy\n",
      "Epoch 199/300\n",
      "1/1 [==============================] - 0s 2ms/step - loss: 0.0172 - accuracy: 1.0000\n",
      "WARNING:tensorflow:Early stopping conditioned on metric `val_loss` which is not available. Available metrics are: loss,accuracy\n",
      "Epoch 200/300\n",
      "1/1 [==============================] - 0s 3ms/step - loss: 0.0170 - accuracy: 1.0000\n",
      "WARNING:tensorflow:Early stopping conditioned on metric `val_loss` which is not available. Available metrics are: loss,accuracy\n",
      "Epoch 201/300\n",
      "1/1 [==============================] - 0s 3ms/step - loss: 0.0169 - accuracy: 1.0000\n",
      "WARNING:tensorflow:Early stopping conditioned on metric `val_loss` which is not available. Available metrics are: loss,accuracy\n",
      "Epoch 202/300\n",
      "1/1 [==============================] - 0s 2ms/step - loss: 0.0168 - accuracy: 1.0000\n",
      "WARNING:tensorflow:Early stopping conditioned on metric `val_loss` which is not available. Available metrics are: loss,accuracy\n",
      "Epoch 203/300\n",
      "1/1 [==============================] - 0s 3ms/step - loss: 0.0167 - accuracy: 1.0000\n",
      "WARNING:tensorflow:Early stopping conditioned on metric `val_loss` which is not available. Available metrics are: loss,accuracy\n",
      "Epoch 204/300\n",
      "1/1 [==============================] - 0s 4ms/step - loss: 0.0166 - accuracy: 1.0000\n",
      "WARNING:tensorflow:Early stopping conditioned on metric `val_loss` which is not available. Available metrics are: loss,accuracy\n",
      "Epoch 205/300\n",
      "1/1 [==============================] - 0s 3ms/step - loss: 0.0164 - accuracy: 1.0000\n",
      "WARNING:tensorflow:Early stopping conditioned on metric `val_loss` which is not available. Available metrics are: loss,accuracy\n",
      "Epoch 206/300\n",
      "1/1 [==============================] - 0s 3ms/step - loss: 0.0163 - accuracy: 1.0000\n",
      "WARNING:tensorflow:Early stopping conditioned on metric `val_loss` which is not available. Available metrics are: loss,accuracy\n",
      "Epoch 207/300\n",
      "1/1 [==============================] - 0s 2ms/step - loss: 0.0162 - accuracy: 1.0000\n",
      "WARNING:tensorflow:Early stopping conditioned on metric `val_loss` which is not available. Available metrics are: loss,accuracy\n",
      "Epoch 208/300\n",
      "1/1 [==============================] - 0s 2ms/step - loss: 0.0161 - accuracy: 1.0000\n",
      "WARNING:tensorflow:Early stopping conditioned on metric `val_loss` which is not available. Available metrics are: loss,accuracy\n",
      "Epoch 209/300\n",
      "1/1 [==============================] - 0s 3ms/step - loss: 0.0160 - accuracy: 1.0000\n",
      "WARNING:tensorflow:Early stopping conditioned on metric `val_loss` which is not available. Available metrics are: loss,accuracy\n",
      "Epoch 210/300\n",
      "1/1 [==============================] - 0s 3ms/step - loss: 0.0159 - accuracy: 1.0000\n",
      "WARNING:tensorflow:Early stopping conditioned on metric `val_loss` which is not available. Available metrics are: loss,accuracy\n",
      "Epoch 211/300\n",
      "1/1 [==============================] - 0s 3ms/step - loss: 0.0157 - accuracy: 1.0000\n",
      "WARNING:tensorflow:Early stopping conditioned on metric `val_loss` which is not available. Available metrics are: loss,accuracy\n",
      "Epoch 212/300\n",
      "1/1 [==============================] - 0s 3ms/step - loss: 0.0156 - accuracy: 1.0000\n",
      "WARNING:tensorflow:Early stopping conditioned on metric `val_loss` which is not available. Available metrics are: loss,accuracy\n",
      "Epoch 213/300\n",
      "1/1 [==============================] - 0s 4ms/step - loss: 0.0155 - accuracy: 1.0000\n",
      "WARNING:tensorflow:Early stopping conditioned on metric `val_loss` which is not available. Available metrics are: loss,accuracy\n",
      "Epoch 214/300\n",
      "1/1 [==============================] - 0s 2ms/step - loss: 0.0154 - accuracy: 1.0000\n",
      "WARNING:tensorflow:Early stopping conditioned on metric `val_loss` which is not available. Available metrics are: loss,accuracy\n",
      "Epoch 215/300\n",
      "1/1 [==============================] - 0s 3ms/step - loss: 0.0153 - accuracy: 1.0000\n",
      "WARNING:tensorflow:Early stopping conditioned on metric `val_loss` which is not available. Available metrics are: loss,accuracy\n",
      "Epoch 216/300\n",
      "1/1 [==============================] - 0s 3ms/step - loss: 0.0152 - accuracy: 1.0000\n",
      "WARNING:tensorflow:Early stopping conditioned on metric `val_loss` which is not available. Available metrics are: loss,accuracy\n",
      "Epoch 217/300\n",
      "1/1 [==============================] - 0s 3ms/step - loss: 0.0151 - accuracy: 1.0000\n",
      "WARNING:tensorflow:Early stopping conditioned on metric `val_loss` which is not available. Available metrics are: loss,accuracy\n",
      "Epoch 218/300\n",
      "1/1 [==============================] - 0s 3ms/step - loss: 0.0150 - accuracy: 1.0000\n",
      "WARNING:tensorflow:Early stopping conditioned on metric `val_loss` which is not available. Available metrics are: loss,accuracy\n",
      "Epoch 219/300\n",
      "1/1 [==============================] - 0s 3ms/step - loss: 0.0149 - accuracy: 1.0000\n",
      "WARNING:tensorflow:Early stopping conditioned on metric `val_loss` which is not available. Available metrics are: loss,accuracy\n",
      "Epoch 220/300\n",
      "1/1 [==============================] - 0s 2ms/step - loss: 0.0148 - accuracy: 1.0000\n",
      "WARNING:tensorflow:Early stopping conditioned on metric `val_loss` which is not available. Available metrics are: loss,accuracy\n",
      "Epoch 221/300\n",
      "1/1 [==============================] - 0s 3ms/step - loss: 0.0147 - accuracy: 1.0000\n",
      "WARNING:tensorflow:Early stopping conditioned on metric `val_loss` which is not available. Available metrics are: loss,accuracy\n",
      "Epoch 222/300\n",
      "1/1 [==============================] - 0s 4ms/step - loss: 0.0146 - accuracy: 1.0000\n",
      "WARNING:tensorflow:Early stopping conditioned on metric `val_loss` which is not available. Available metrics are: loss,accuracy\n",
      "Epoch 223/300\n",
      "1/1 [==============================] - 0s 3ms/step - loss: 0.0145 - accuracy: 1.0000\n",
      "WARNING:tensorflow:Early stopping conditioned on metric `val_loss` which is not available. Available metrics are: loss,accuracy\n",
      "Epoch 224/300\n",
      "1/1 [==============================] - 0s 3ms/step - loss: 0.0144 - accuracy: 1.0000\n",
      "WARNING:tensorflow:Early stopping conditioned on metric `val_loss` which is not available. Available metrics are: loss,accuracy\n",
      "Epoch 225/300\n",
      "1/1 [==============================] - 0s 3ms/step - loss: 0.0143 - accuracy: 1.0000\n",
      "WARNING:tensorflow:Early stopping conditioned on metric `val_loss` which is not available. Available metrics are: loss,accuracy\n",
      "Epoch 226/300\n",
      "1/1 [==============================] - 0s 2ms/step - loss: 0.0142 - accuracy: 1.0000\n",
      "WARNING:tensorflow:Early stopping conditioned on metric `val_loss` which is not available. Available metrics are: loss,accuracy\n",
      "Epoch 227/300\n",
      "1/1 [==============================] - 0s 3ms/step - loss: 0.0141 - accuracy: 1.0000\n",
      "WARNING:tensorflow:Early stopping conditioned on metric `val_loss` which is not available. Available metrics are: loss,accuracy\n",
      "Epoch 228/300\n",
      "1/1 [==============================] - 0s 2ms/step - loss: 0.0140 - accuracy: 1.0000\n",
      "WARNING:tensorflow:Early stopping conditioned on metric `val_loss` which is not available. Available metrics are: loss,accuracy\n",
      "Epoch 229/300\n",
      "1/1 [==============================] - 0s 2ms/step - loss: 0.0139 - accuracy: 1.0000\n",
      "WARNING:tensorflow:Early stopping conditioned on metric `val_loss` which is not available. Available metrics are: loss,accuracy\n",
      "Epoch 230/300\n",
      "1/1 [==============================] - 0s 2ms/step - loss: 0.0138 - accuracy: 1.0000\n",
      "WARNING:tensorflow:Early stopping conditioned on metric `val_loss` which is not available. Available metrics are: loss,accuracy\n",
      "Epoch 231/300\n",
      "1/1 [==============================] - 0s 3ms/step - loss: 0.0137 - accuracy: 1.0000\n",
      "WARNING:tensorflow:Early stopping conditioned on metric `val_loss` which is not available. Available metrics are: loss,accuracy\n",
      "Epoch 232/300\n",
      "1/1 [==============================] - 0s 2ms/step - loss: 0.0136 - accuracy: 1.0000\n",
      "WARNING:tensorflow:Early stopping conditioned on metric `val_loss` which is not available. Available metrics are: loss,accuracy\n",
      "Epoch 233/300\n",
      "1/1 [==============================] - 0s 2ms/step - loss: 0.0136 - accuracy: 1.0000\n",
      "WARNING:tensorflow:Early stopping conditioned on metric `val_loss` which is not available. Available metrics are: loss,accuracy\n",
      "Epoch 234/300\n",
      "1/1 [==============================] - 0s 3ms/step - loss: 0.0135 - accuracy: 1.0000\n",
      "WARNING:tensorflow:Early stopping conditioned on metric `val_loss` which is not available. Available metrics are: loss,accuracy\n",
      "Epoch 235/300\n",
      "1/1 [==============================] - 0s 2ms/step - loss: 0.0134 - accuracy: 1.0000\n",
      "WARNING:tensorflow:Early stopping conditioned on metric `val_loss` which is not available. Available metrics are: loss,accuracy\n",
      "Epoch 236/300\n",
      "1/1 [==============================] - 0s 3ms/step - loss: 0.0133 - accuracy: 1.0000\n",
      "WARNING:tensorflow:Early stopping conditioned on metric `val_loss` which is not available. Available metrics are: loss,accuracy\n",
      "Epoch 237/300\n",
      "1/1 [==============================] - 0s 2ms/step - loss: 0.0132 - accuracy: 1.0000\n",
      "WARNING:tensorflow:Early stopping conditioned on metric `val_loss` which is not available. Available metrics are: loss,accuracy\n",
      "Epoch 238/300\n",
      "1/1 [==============================] - 0s 2ms/step - loss: 0.0131 - accuracy: 1.0000\n",
      "WARNING:tensorflow:Early stopping conditioned on metric `val_loss` which is not available. Available metrics are: loss,accuracy\n",
      "Epoch 239/300\n",
      "1/1 [==============================] - 0s 3ms/step - loss: 0.0130 - accuracy: 1.0000\n",
      "WARNING:tensorflow:Early stopping conditioned on metric `val_loss` which is not available. Available metrics are: loss,accuracy\n",
      "Epoch 240/300\n",
      "1/1 [==============================] - 0s 2ms/step - loss: 0.0130 - accuracy: 1.0000\n",
      "WARNING:tensorflow:Early stopping conditioned on metric `val_loss` which is not available. Available metrics are: loss,accuracy\n",
      "Epoch 241/300\n",
      "1/1 [==============================] - 0s 3ms/step - loss: 0.0129 - accuracy: 1.0000\n",
      "WARNING:tensorflow:Early stopping conditioned on metric `val_loss` which is not available. Available metrics are: loss,accuracy\n",
      "Epoch 242/300\n",
      "1/1 [==============================] - 0s 2ms/step - loss: 0.0128 - accuracy: 1.0000\n",
      "WARNING:tensorflow:Early stopping conditioned on metric `val_loss` which is not available. Available metrics are: loss,accuracy\n",
      "Epoch 243/300\n",
      "1/1 [==============================] - 0s 2ms/step - loss: 0.0127 - accuracy: 1.0000\n",
      "WARNING:tensorflow:Early stopping conditioned on metric `val_loss` which is not available. Available metrics are: loss,accuracy\n",
      "Epoch 244/300\n",
      "1/1 [==============================] - 0s 2ms/step - loss: 0.0126 - accuracy: 1.0000\n",
      "WARNING:tensorflow:Early stopping conditioned on metric `val_loss` which is not available. Available metrics are: loss,accuracy\n",
      "Epoch 245/300\n",
      "1/1 [==============================] - 0s 2ms/step - loss: 0.0125 - accuracy: 1.0000\n",
      "WARNING:tensorflow:Early stopping conditioned on metric `val_loss` which is not available. Available metrics are: loss,accuracy\n",
      "Epoch 246/300\n",
      "1/1 [==============================] - 0s 3ms/step - loss: 0.0125 - accuracy: 1.0000\n",
      "WARNING:tensorflow:Early stopping conditioned on metric `val_loss` which is not available. Available metrics are: loss,accuracy\n",
      "Epoch 247/300\n",
      "1/1 [==============================] - 0s 2ms/step - loss: 0.0124 - accuracy: 1.0000\n",
      "WARNING:tensorflow:Early stopping conditioned on metric `val_loss` which is not available. Available metrics are: loss,accuracy\n",
      "Epoch 248/300\n",
      "1/1 [==============================] - 0s 3ms/step - loss: 0.0123 - accuracy: 1.0000\n",
      "WARNING:tensorflow:Early stopping conditioned on metric `val_loss` which is not available. Available metrics are: loss,accuracy\n",
      "Epoch 249/300\n",
      "1/1 [==============================] - 0s 2ms/step - loss: 0.0122 - accuracy: 1.0000\n",
      "WARNING:tensorflow:Early stopping conditioned on metric `val_loss` which is not available. Available metrics are: loss,accuracy\n",
      "Epoch 250/300\n",
      "1/1 [==============================] - 0s 2ms/step - loss: 0.0122 - accuracy: 1.0000\n",
      "WARNING:tensorflow:Early stopping conditioned on metric `val_loss` which is not available. Available metrics are: loss,accuracy\n",
      "Epoch 251/300\n",
      "1/1 [==============================] - 0s 4ms/step - loss: 0.0121 - accuracy: 1.0000\n",
      "WARNING:tensorflow:Early stopping conditioned on metric `val_loss` which is not available. Available metrics are: loss,accuracy\n",
      "Epoch 252/300\n",
      "1/1 [==============================] - 0s 2ms/step - loss: 0.0120 - accuracy: 1.0000\n",
      "WARNING:tensorflow:Early stopping conditioned on metric `val_loss` which is not available. Available metrics are: loss,accuracy\n",
      "Epoch 253/300\n",
      "1/1 [==============================] - 0s 2ms/step - loss: 0.0119 - accuracy: 1.0000\n",
      "WARNING:tensorflow:Early stopping conditioned on metric `val_loss` which is not available. Available metrics are: loss,accuracy\n",
      "Epoch 254/300\n",
      "1/1 [==============================] - 0s 996us/step - loss: 0.0119 - accuracy: 1.0000\n",
      "WARNING:tensorflow:Early stopping conditioned on metric `val_loss` which is not available. Available metrics are: loss,accuracy\n",
      "Epoch 255/300\n",
      "1/1 [==============================] - 0s 3ms/step - loss: 0.0118 - accuracy: 1.0000\n",
      "WARNING:tensorflow:Early stopping conditioned on metric `val_loss` which is not available. Available metrics are: loss,accuracy\n",
      "Epoch 256/300\n",
      "1/1 [==============================] - 0s 2ms/step - loss: 0.0117 - accuracy: 1.0000\n",
      "WARNING:tensorflow:Early stopping conditioned on metric `val_loss` which is not available. Available metrics are: loss,accuracy\n",
      "Epoch 257/300\n",
      "1/1 [==============================] - 0s 2ms/step - loss: 0.0116 - accuracy: 1.0000\n",
      "WARNING:tensorflow:Early stopping conditioned on metric `val_loss` which is not available. Available metrics are: loss,accuracy\n",
      "Epoch 258/300\n",
      "1/1 [==============================] - 0s 2ms/step - loss: 0.0116 - accuracy: 1.0000\n",
      "WARNING:tensorflow:Early stopping conditioned on metric `val_loss` which is not available. Available metrics are: loss,accuracy\n",
      "Epoch 259/300\n",
      "1/1 [==============================] - 0s 3ms/step - loss: 0.0115 - accuracy: 1.0000\n",
      "WARNING:tensorflow:Early stopping conditioned on metric `val_loss` which is not available. Available metrics are: loss,accuracy\n",
      "Epoch 260/300\n",
      "1/1 [==============================] - 0s 2ms/step - loss: 0.0114 - accuracy: 1.0000\n",
      "WARNING:tensorflow:Early stopping conditioned on metric `val_loss` which is not available. Available metrics are: loss,accuracy\n",
      "Epoch 261/300\n",
      "1/1 [==============================] - 0s 997us/step - loss: 0.0114 - accuracy: 1.0000\n",
      "WARNING:tensorflow:Early stopping conditioned on metric `val_loss` which is not available. Available metrics are: loss,accuracy\n",
      "Epoch 262/300\n",
      "1/1 [==============================] - 0s 2ms/step - loss: 0.0113 - accuracy: 1.0000\n",
      "WARNING:tensorflow:Early stopping conditioned on metric `val_loss` which is not available. Available metrics are: loss,accuracy\n",
      "Epoch 263/300\n",
      "1/1 [==============================] - 0s 3ms/step - loss: 0.0112 - accuracy: 1.0000\n",
      "WARNING:tensorflow:Early stopping conditioned on metric `val_loss` which is not available. Available metrics are: loss,accuracy\n",
      "Epoch 264/300\n",
      "1/1 [==============================] - 0s 2ms/step - loss: 0.0112 - accuracy: 1.0000\n",
      "WARNING:tensorflow:Early stopping conditioned on metric `val_loss` which is not available. Available metrics are: loss,accuracy\n",
      "Epoch 265/300\n",
      "1/1 [==============================] - 0s 2ms/step - loss: 0.0111 - accuracy: 1.0000\n",
      "WARNING:tensorflow:Early stopping conditioned on metric `val_loss` which is not available. Available metrics are: loss,accuracy\n",
      "Epoch 266/300\n",
      "1/1 [==============================] - 0s 2ms/step - loss: 0.0110 - accuracy: 1.0000\n",
      "WARNING:tensorflow:Early stopping conditioned on metric `val_loss` which is not available. Available metrics are: loss,accuracy\n",
      "Epoch 267/300\n",
      "1/1 [==============================] - 0s 3ms/step - loss: 0.0110 - accuracy: 1.0000\n",
      "WARNING:tensorflow:Early stopping conditioned on metric `val_loss` which is not available. Available metrics are: loss,accuracy\n",
      "Epoch 268/300\n",
      "1/1 [==============================] - 0s 2ms/step - loss: 0.0109 - accuracy: 1.0000\n",
      "WARNING:tensorflow:Early stopping conditioned on metric `val_loss` which is not available. Available metrics are: loss,accuracy\n",
      "Epoch 269/300\n",
      "1/1 [==============================] - 0s 2ms/step - loss: 0.0108 - accuracy: 1.0000\n",
      "WARNING:tensorflow:Early stopping conditioned on metric `val_loss` which is not available. Available metrics are: loss,accuracy\n",
      "Epoch 270/300\n",
      "1/1 [==============================] - 0s 996us/step - loss: 0.0108 - accuracy: 1.0000\n",
      "WARNING:tensorflow:Early stopping conditioned on metric `val_loss` which is not available. Available metrics are: loss,accuracy\n",
      "Epoch 271/300\n",
      "1/1 [==============================] - 0s 2ms/step - loss: 0.0107 - accuracy: 1.0000\n",
      "WARNING:tensorflow:Early stopping conditioned on metric `val_loss` which is not available. Available metrics are: loss,accuracy\n",
      "Epoch 272/300\n",
      "1/1 [==============================] - 0s 2ms/step - loss: 0.0107 - accuracy: 1.0000\n",
      "WARNING:tensorflow:Early stopping conditioned on metric `val_loss` which is not available. Available metrics are: loss,accuracy\n",
      "Epoch 273/300\n",
      "1/1 [==============================] - 0s 2ms/step - loss: 0.0106 - accuracy: 1.0000\n",
      "WARNING:tensorflow:Early stopping conditioned on metric `val_loss` which is not available. Available metrics are: loss,accuracy\n",
      "Epoch 274/300\n",
      "1/1 [==============================] - 0s 997us/step - loss: 0.0105 - accuracy: 1.0000\n",
      "WARNING:tensorflow:Early stopping conditioned on metric `val_loss` which is not available. Available metrics are: loss,accuracy\n",
      "Epoch 275/300\n",
      "1/1 [==============================] - 0s 2ms/step - loss: 0.0105 - accuracy: 1.0000\n",
      "WARNING:tensorflow:Early stopping conditioned on metric `val_loss` which is not available. Available metrics are: loss,accuracy\n",
      "Epoch 276/300\n",
      "1/1 [==============================] - 0s 2ms/step - loss: 0.0104 - accuracy: 1.0000\n",
      "WARNING:tensorflow:Early stopping conditioned on metric `val_loss` which is not available. Available metrics are: loss,accuracy\n",
      "Epoch 277/300\n",
      "1/1 [==============================] - 0s 3ms/step - loss: 0.0104 - accuracy: 1.0000\n",
      "WARNING:tensorflow:Early stopping conditioned on metric `val_loss` which is not available. Available metrics are: loss,accuracy\n",
      "Epoch 278/300\n",
      "1/1 [==============================] - 0s 2ms/step - loss: 0.0103 - accuracy: 1.0000\n",
      "WARNING:tensorflow:Early stopping conditioned on metric `val_loss` which is not available. Available metrics are: loss,accuracy\n",
      "Epoch 279/300\n",
      "1/1 [==============================] - 0s 2ms/step - loss: 0.0102 - accuracy: 1.0000\n",
      "WARNING:tensorflow:Early stopping conditioned on metric `val_loss` which is not available. Available metrics are: loss,accuracy\n",
      "Epoch 280/300\n",
      "1/1 [==============================] - 0s 2ms/step - loss: 0.0102 - accuracy: 1.0000\n",
      "WARNING:tensorflow:Early stopping conditioned on metric `val_loss` which is not available. Available metrics are: loss,accuracy\n",
      "Epoch 281/300\n",
      "1/1 [==============================] - 0s 2ms/step - loss: 0.0101 - accuracy: 1.0000\n",
      "WARNING:tensorflow:Early stopping conditioned on metric `val_loss` which is not available. Available metrics are: loss,accuracy\n",
      "Epoch 282/300\n",
      "1/1 [==============================] - 0s 997us/step - loss: 0.0101 - accuracy: 1.0000\n",
      "WARNING:tensorflow:Early stopping conditioned on metric `val_loss` which is not available. Available metrics are: loss,accuracy\n",
      "Epoch 283/300\n",
      "1/1 [==============================] - 0s 3ms/step - loss: 0.0100 - accuracy: 1.0000\n",
      "WARNING:tensorflow:Early stopping conditioned on metric `val_loss` which is not available. Available metrics are: loss,accuracy\n",
      "Epoch 284/300\n",
      "1/1 [==============================] - 0s 2ms/step - loss: 0.0100 - accuracy: 1.0000\n",
      "WARNING:tensorflow:Early stopping conditioned on metric `val_loss` which is not available. Available metrics are: loss,accuracy\n",
      "Epoch 285/300\n",
      "1/1 [==============================] - 0s 2ms/step - loss: 0.0099 - accuracy: 1.0000\n",
      "WARNING:tensorflow:Early stopping conditioned on metric `val_loss` which is not available. Available metrics are: loss,accuracy\n",
      "Epoch 286/300\n",
      "1/1 [==============================] - 0s 2ms/step - loss: 0.0098 - accuracy: 1.0000\n",
      "WARNING:tensorflow:Early stopping conditioned on metric `val_loss` which is not available. Available metrics are: loss,accuracy\n",
      "Epoch 287/300\n",
      "1/1 [==============================] - 0s 3ms/step - loss: 0.0098 - accuracy: 1.0000\n",
      "WARNING:tensorflow:Early stopping conditioned on metric `val_loss` which is not available. Available metrics are: loss,accuracy\n",
      "Epoch 288/300\n",
      "1/1 [==============================] - 0s 998us/step - loss: 0.0097 - accuracy: 1.0000\n",
      "WARNING:tensorflow:Early stopping conditioned on metric `val_loss` which is not available. Available metrics are: loss,accuracy\n",
      "Epoch 289/300\n",
      "1/1 [==============================] - 0s 2ms/step - loss: 0.0097 - accuracy: 1.0000\n",
      "WARNING:tensorflow:Early stopping conditioned on metric `val_loss` which is not available. Available metrics are: loss,accuracy\n",
      "Epoch 290/300\n",
      "1/1 [==============================] - 0s 998us/step - loss: 0.0096 - accuracy: 1.0000\n",
      "WARNING:tensorflow:Early stopping conditioned on metric `val_loss` which is not available. Available metrics are: loss,accuracy\n",
      "Epoch 291/300\n",
      "1/1 [==============================] - 0s 3ms/step - loss: 0.0096 - accuracy: 1.0000\n",
      "WARNING:tensorflow:Early stopping conditioned on metric `val_loss` which is not available. Available metrics are: loss,accuracy\n",
      "Epoch 292/300\n",
      "1/1 [==============================] - 0s 2ms/step - loss: 0.0095 - accuracy: 1.0000\n",
      "WARNING:tensorflow:Early stopping conditioned on metric `val_loss` which is not available. Available metrics are: loss,accuracy\n",
      "Epoch 293/300\n",
      "1/1 [==============================] - 0s 2ms/step - loss: 0.0095 - accuracy: 1.0000\n",
      "WARNING:tensorflow:Early stopping conditioned on metric `val_loss` which is not available. Available metrics are: loss,accuracy\n",
      "Epoch 294/300\n",
      "1/1 [==============================] - 0s 2ms/step - loss: 0.0094 - accuracy: 1.0000\n",
      "WARNING:tensorflow:Early stopping conditioned on metric `val_loss` which is not available. Available metrics are: loss,accuracy\n",
      "Epoch 295/300\n",
      "1/1 [==============================] - 0s 2ms/step - loss: 0.0094 - accuracy: 1.0000\n",
      "WARNING:tensorflow:Early stopping conditioned on metric `val_loss` which is not available. Available metrics are: loss,accuracy\n",
      "Epoch 296/300\n",
      "1/1 [==============================] - 0s 3ms/step - loss: 0.0093 - accuracy: 1.0000\n",
      "WARNING:tensorflow:Early stopping conditioned on metric `val_loss` which is not available. Available metrics are: loss,accuracy\n",
      "Epoch 297/300\n",
      "1/1 [==============================] - 0s 998us/step - loss: 0.0093 - accuracy: 1.0000\n",
      "WARNING:tensorflow:Early stopping conditioned on metric `val_loss` which is not available. Available metrics are: loss,accuracy\n",
      "Epoch 298/300\n",
      "1/1 [==============================] - 0s 2ms/step - loss: 0.0092 - accuracy: 1.0000\n",
      "WARNING:tensorflow:Early stopping conditioned on metric `val_loss` which is not available. Available metrics are: loss,accuracy\n",
      "Epoch 299/300\n",
      "1/1 [==============================] - 0s 3ms/step - loss: 0.0092 - accuracy: 1.0000\n",
      "WARNING:tensorflow:Early stopping conditioned on metric `val_loss` which is not available. Available metrics are: loss,accuracy\n",
      "Epoch 300/300\n",
      "1/1 [==============================] - 0s 995us/step - loss: 0.0091 - accuracy: 1.0000\n",
      "WARNING:tensorflow:Early stopping conditioned on metric `val_loss` which is not available. Available metrics are: loss,accuracy\n"
     ]
    }
   ],
   "source": [
    "epochs = 300\n",
    "training_history = model.fit(padded_sequences, np.array(training_labels), epochs=epochs,callbacks=callback)"
   ]
  },
  {
   "cell_type": "code",
   "execution_count": 91,
   "id": "0480b386",
   "metadata": {},
   "outputs": [
    {
     "name": "stdout",
     "output_type": "stream",
     "text": [
      "INFO:tensorflow:Assets written to: chat_model\\assets\n"
     ]
    }
   ],
   "source": [
    "# saving model\n",
    "model.save(\"chat_model\")\n",
    "# saving tokenizer\n",
    "with open('tokenizer.pickle', 'wb') as handle:\n",
    "    pickle.dump(tokenizer, handle, protocol=pickle.HIGHEST_PROTOCOL)\n",
    "# saving label encoder\n",
    "with open('label_encoder.pickle', 'wb') as ecn_file:\n",
    "    pickle.dump(lbl_encoder, ecn_file, protocol=pickle.HIGHEST_PROTOCOL)"
   ]
  },
  {
   "cell_type": "markdown",
   "id": "52a59d8e",
   "metadata": {},
   "source": [
    "#### Conclusion"
   ]
  },
  {
   "cell_type": "markdown",
   "id": "9eb3f462",
   "metadata": {},
   "source": [
    "* Once the model has been developed using an algorithm that gives an acceptable accuracy, this model can be called using to any chatbot UI framework.\n",
    "* Also, it is recommended to use opensource conversational AI frameworks such as Rasa, Dialogflow for better results."
   ]
  }
 ],
 "metadata": {
  "kernelspec": {
   "display_name": "Python 3",
   "language": "python",
   "name": "python3"
  },
  "language_info": {
   "codemirror_mode": {
    "name": "ipython",
    "version": 3
   },
   "file_extension": ".py",
   "mimetype": "text/x-python",
   "name": "python",
   "nbconvert_exporter": "python",
   "pygments_lexer": "ipython3",
   "version": "3.8.8"
  }
 },
 "nbformat": 4,
 "nbformat_minor": 5
}
